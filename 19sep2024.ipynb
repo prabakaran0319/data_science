{
  "nbformat": 4,
  "nbformat_minor": 0,
  "metadata": {
    "colab": {
      "provenance": []
    },
    "kernelspec": {
      "name": "python3",
      "display_name": "Python 3"
    },
    "language_info": {
      "name": "python"
    }
  },
  "cells": [
    {
      "cell_type": "markdown",
      "source": [
        "# 19 sep 2024"
      ],
      "metadata": {
        "id": "rf45ak95EyXD"
      }
    },
    {
      "cell_type": "markdown",
      "source": [
        "# Heap data structure"
      ],
      "metadata": {
        "id": "8O_AvgVk56bT"
      }
    },
    {
      "cell_type": "code",
      "source": [
        "import heapq"
      ],
      "metadata": {
        "id": "pVbJX7X-E1A4"
      },
      "execution_count": null,
      "outputs": []
    },
    {
      "cell_type": "code",
      "source": [
        "var1 = [7,12,24,45,72,24,3,46,4] #min heap -  The parent node is smaller than its children.\n",
        " #3,4,7,12,72,24,24,46,45        #This means the smallest element is always at the top (root).\n"
      ],
      "metadata": {
        "id": "TfoG10GH6Hhl"
      },
      "execution_count": null,
      "outputs": []
    },
    {
      "cell_type": "code",
      "source": [
        "heapq.heapify(var1)"
      ],
      "metadata": {
        "id": "4S218YWy6xiM"
      },
      "execution_count": null,
      "outputs": []
    },
    {
      "cell_type": "code",
      "source": [
        "print(var1)"
      ],
      "metadata": {
        "colab": {
          "base_uri": "https://localhost:8080/"
        },
        "id": "hlm-OlEa69R8",
        "outputId": "58cfa2e4-6b8f-4239-bec0-b81c614a1532"
      },
      "execution_count": null,
      "outputs": [
        {
          "output_type": "stream",
          "name": "stdout",
          "text": [
            "[3, 4, 7, 12, 72, 24, 24, 46, 45]\n"
          ]
        }
      ]
    },
    {
      "cell_type": "code",
      "source": [
        "dir(heapq)"
      ],
      "metadata": {
        "colab": {
          "base_uri": "https://localhost:8080/"
        },
        "id": "1Ecr4gLB_CXt",
        "outputId": "832e4814-b928-42a1-bf5b-e451b289ae70"
      },
      "execution_count": null,
      "outputs": [
        {
          "output_type": "execute_result",
          "data": {
            "text/plain": [
              "['__about__',\n",
              " '__all__',\n",
              " '__builtins__',\n",
              " '__cached__',\n",
              " '__doc__',\n",
              " '__file__',\n",
              " '__loader__',\n",
              " '__name__',\n",
              " '__package__',\n",
              " '__spec__',\n",
              " '_heapify_max',\n",
              " '_heappop_max',\n",
              " '_heapreplace_max',\n",
              " '_siftdown',\n",
              " '_siftdown_max',\n",
              " '_siftup',\n",
              " '_siftup_max',\n",
              " 'heapify',\n",
              " 'heappop',\n",
              " 'heappush',\n",
              " 'heappushpop',\n",
              " 'heapreplace',\n",
              " 'merge',\n",
              " 'nlargest',\n",
              " 'nsmallest']"
            ]
          },
          "metadata": {},
          "execution_count": 11
        }
      ]
    },
    {
      "cell_type": "code",
      "source": [
        "#Max-Heap: The parent node is larger than its children. This means the largest element is always at the top.\n",
        "var2 = [2,34,43,12,37,54,83,22,14,11,76,48,31,34]\n",
        "heapq._heapify_max(var2)\n",
        "print(var2)"
      ],
      "metadata": {
        "colab": {
          "base_uri": "https://localhost:8080/"
        },
        "id": "URyAt0md-4qC",
        "outputId": "5cd3047f-415b-4293-f519-d049275ba7f7"
      },
      "execution_count": null,
      "outputs": [
        {
          "output_type": "stream",
          "name": "stdout",
          "text": [
            "[83, 76, 54, 22, 37, 48, 43, 12, 14, 11, 34, 2, 31, 34]\n"
          ]
        }
      ]
    },
    {
      "cell_type": "code",
      "source": [
        "heapq.heappop(var2)"
      ],
      "metadata": {
        "colab": {
          "base_uri": "https://localhost:8080/"
        },
        "id": "aPG7gnar_oRg",
        "outputId": "bf61ec15-ebb9-4e9c-ced8-f25509b24060"
      },
      "execution_count": null,
      "outputs": [
        {
          "output_type": "execute_result",
          "data": {
            "text/plain": [
              "83"
            ]
          },
          "metadata": {},
          "execution_count": 24
        }
      ]
    },
    {
      "cell_type": "code",
      "source": [
        "var2"
      ],
      "metadata": {
        "colab": {
          "base_uri": "https://localhost:8080/"
        },
        "id": "KMy_V0lV_wSA",
        "outputId": "21a9dd08-0244-4555-8f38-7a271a9ca810"
      },
      "execution_count": null,
      "outputs": [
        {
          "output_type": "execute_result",
          "data": {
            "text/plain": [
              "[34, 76, 54, 22, 37, 48, 43, 12, 14, 11, 34, 2, 31]"
            ]
          },
          "metadata": {},
          "execution_count": 25
        }
      ]
    },
    {
      "cell_type": "markdown",
      "source": [
        "# File Handling in python"
      ],
      "metadata": {
        "id": "Ns99T_vcBCRc"
      }
    },
    {
      "cell_type": "code",
      "source": [
        "#modes\n",
        "#1. x - create the file\n",
        "#2, w - write the file\n",
        "#3. r - read the file"
      ],
      "metadata": {
        "id": "mO6OXFmvBGG3"
      },
      "execution_count": null,
      "outputs": []
    },
    {
      "cell_type": "code",
      "source": [
        "file = open(\"praba.txt\",\"x\")"
      ],
      "metadata": {
        "colab": {
          "base_uri": "https://localhost:8080/",
          "height": 146
        },
        "id": "vVUqIdiQBUrZ",
        "outputId": "c9079a5a-d2e6-4d5e-a917-b077018c5eed"
      },
      "execution_count": null,
      "outputs": [
        {
          "output_type": "error",
          "ename": "FileExistsError",
          "evalue": "[Errno 17] File exists: 'praba.txt'",
          "traceback": [
            "\u001b[0;31m---------------------------------------------------------------------------\u001b[0m",
            "\u001b[0;31mFileExistsError\u001b[0m                           Traceback (most recent call last)",
            "\u001b[0;32m<ipython-input-29-1ac9d2db1b15>\u001b[0m in \u001b[0;36m<cell line: 1>\u001b[0;34m()\u001b[0m\n\u001b[0;32m----> 1\u001b[0;31m \u001b[0mfile\u001b[0m \u001b[0;34m=\u001b[0m \u001b[0mopen\u001b[0m\u001b[0;34m(\u001b[0m\u001b[0;34m\"praba.txt\"\u001b[0m\u001b[0;34m,\u001b[0m\u001b[0;34m\"x\"\u001b[0m\u001b[0;34m)\u001b[0m\u001b[0;34m\u001b[0m\u001b[0;34m\u001b[0m\u001b[0m\n\u001b[0m",
            "\u001b[0;31mFileExistsError\u001b[0m: [Errno 17] File exists: 'praba.txt'"
          ]
        }
      ]
    },
    {
      "cell_type": "code",
      "source": [
        "file_1 = open(\"praba.txt\",\"w\")\n",
        "file_1.write(\"welcome to python\")\n",
        "file_1.close()"
      ],
      "metadata": {
        "id": "B8QaqxaWB-ih"
      },
      "execution_count": null,
      "outputs": []
    },
    {
      "cell_type": "code",
      "source": [
        "file_2 = open(\"vignesh.txt\",\"w\")\n",
        "file_2.write(\"welcome to colab\")\n",
        "file_2.close()"
      ],
      "metadata": {
        "id": "KY_W7yTqDJju"
      },
      "execution_count": null,
      "outputs": []
    },
    {
      "cell_type": "code",
      "source": [
        "with open(\"dharshak.txt\",\"w\") as file_3:\n",
        "    for i in range(1,6):\n",
        "        var = input(\"enter the data:\")\n",
        "        file_3.write(var + \"\\n\")\n",
        "#file_3.close()\n"
      ],
      "metadata": {
        "colab": {
          "base_uri": "https://localhost:8080/"
        },
        "id": "yGUBLQX4EAiO",
        "outputId": "f1542605-9ea3-428b-8a5c-e86fe9c5b811"
      },
      "execution_count": null,
      "outputs": [
        {
          "name": "stdout",
          "output_type": "stream",
          "text": [
            "enter the data:1\n",
            "enter the data:2\n",
            "enter the data:3\n",
            "enter the data:4\n",
            "enter the data:5\n"
          ]
        }
      ]
    }
  ]
}