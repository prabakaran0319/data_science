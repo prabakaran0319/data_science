{
  "nbformat": 4,
  "nbformat_minor": 0,
  "metadata": {
    "colab": {
      "provenance": []
    },
    "kernelspec": {
      "name": "python3",
      "display_name": "Python 3"
    },
    "language_info": {
      "name": "python"
    }
  },
  "cells": [
    {
      "cell_type": "markdown",
      "source": [
        "# 18 sep 2024"
      ],
      "metadata": {
        "id": "_CwOMDXF29Mv"
      }
    },
    {
      "cell_type": "markdown",
      "source": [
        "# stack data structure\n",
        "#last in first out"
      ],
      "metadata": {
        "id": "OF6zODM63AJ7"
      }
    },
    {
      "cell_type": "code",
      "source": [
        "#last in first out\n",
        "class stack:\n",
        "    def __init__(self,data):\n",
        "        self.Data = [data]\n",
        "    def add(self):\n",
        "        while True:\n",
        "            var = input(\"enter the number:\")\n",
        "            if var:\n",
        "                self.Data.append(int(var))\n",
        "            else:\n",
        "                break\n",
        "    def show(self):\n",
        "        print(self.Data)\n",
        "    def pops(self):\n",
        "        return self.Data.pop()\n"
      ],
      "metadata": {
        "id": "yDzdUZZ73Izd"
      },
      "execution_count": null,
      "outputs": []
    },
    {
      "cell_type": "code",
      "source": [
        "obj_stack = stack(45)"
      ],
      "metadata": {
        "id": "QZHl825l4cU0"
      },
      "execution_count": null,
      "outputs": []
    },
    {
      "cell_type": "code",
      "source": [
        "obj_stack.add()"
      ],
      "metadata": {
        "colab": {
          "base_uri": "https://localhost:8080/"
        },
        "id": "rnQDwEO35cUu",
        "outputId": "094cc7bb-af91-43a6-fede-f60037e7b200"
      },
      "execution_count": null,
      "outputs": [
        {
          "name": "stdout",
          "output_type": "stream",
          "text": [
            "enter the number:1\n",
            "enter the number:2\n",
            "enter the number:3\n",
            "enter the number:4\n",
            "enter the number:5\n",
            "enter the number:\n"
          ]
        }
      ]
    },
    {
      "cell_type": "code",
      "source": [
        "obj_stack.show()"
      ],
      "metadata": {
        "colab": {
          "base_uri": "https://localhost:8080/"
        },
        "id": "XOttiH-h5hUG",
        "outputId": "88208383-fa40-4eb2-b0a8-281ce8f087cc"
      },
      "execution_count": null,
      "outputs": [
        {
          "output_type": "stream",
          "name": "stdout",
          "text": [
            "[45, 1, 2, 3, 4, 5]\n"
          ]
        }
      ]
    },
    {
      "cell_type": "code",
      "source": [
        "obj_stack.pops()"
      ],
      "metadata": {
        "colab": {
          "base_uri": "https://localhost:8080/"
        },
        "id": "B1jW-9FMDV4E",
        "outputId": "bc8938c7-6999-4f14-ecd8-2b932b7645b3"
      },
      "execution_count": null,
      "outputs": [
        {
          "output_type": "execute_result",
          "data": {
            "text/plain": [
              "5"
            ]
          },
          "metadata": {},
          "execution_count": 31
        }
      ]
    },
    {
      "cell_type": "markdown",
      "source": [
        "# Queue data structure"
      ],
      "metadata": {
        "id": "H7MXfQVVDp7w"
      }
    },
    {
      "cell_type": "markdown",
      "source": [
        "\n",
        "\n",
        "# first in first out\n",
        "\n"
      ],
      "metadata": {
        "id": "i7MWIJ8eDyJJ"
      }
    },
    {
      "cell_type": "code",
      "source": [
        "class queue:\n",
        "    def __init__(self,data):\n",
        "        self.Data = [data]\n",
        "    def add(self):\n",
        "        while True:\n",
        "            var = input(\"enter the number:\")\n",
        "            if var:\n",
        "                self.Data.append(int(var))\n",
        "            else:\n",
        "                break\n",
        "    def show(self):\n",
        "        print(self.Data)\n",
        "    def FIFO(self):\n",
        "        return self.Data.pop(0) # 0 is index value"
      ],
      "metadata": {
        "id": "PPGIqT_KDoxz"
      },
      "execution_count": null,
      "outputs": []
    },
    {
      "cell_type": "code",
      "source": [
        "que_obj = queue(1)"
      ],
      "metadata": {
        "id": "32xm51__EJJx"
      },
      "execution_count": null,
      "outputs": []
    },
    {
      "cell_type": "code",
      "source": [
        "que_obj.add()"
      ],
      "metadata": {
        "colab": {
          "base_uri": "https://localhost:8080/"
        },
        "id": "rIb8P1wHEOgf",
        "outputId": "3a33228e-4609-43c8-e67d-698987926742"
      },
      "execution_count": null,
      "outputs": [
        {
          "name": "stdout",
          "output_type": "stream",
          "text": [
            "enter the number:1\n",
            "enter the number:2\n",
            "enter the number:3\n",
            "enter the number:4\n",
            "enter the number:5\n",
            "enter the number:\n"
          ]
        }
      ]
    },
    {
      "cell_type": "code",
      "source": [
        "que_obj.show()"
      ],
      "metadata": {
        "colab": {
          "base_uri": "https://localhost:8080/"
        },
        "id": "Ci_NyRRJEUdl",
        "outputId": "5832b7b3-e4f7-4812-deb1-8ad4f48ea49b"
      },
      "execution_count": null,
      "outputs": [
        {
          "output_type": "stream",
          "name": "stdout",
          "text": [
            "[1, 1, 2, 3, 4, 5]\n"
          ]
        }
      ]
    },
    {
      "cell_type": "code",
      "source": [
        "que_obj.FIFO()"
      ],
      "metadata": {
        "colab": {
          "base_uri": "https://localhost:8080/"
        },
        "id": "BRuCeNPVEacK",
        "outputId": "17da6fdc-543a-4095-b183-2cbf68a00973"
      },
      "execution_count": null,
      "outputs": [
        {
          "output_type": "execute_result",
          "data": {
            "text/plain": [
              "1"
            ]
          },
          "metadata": {},
          "execution_count": 38
        }
      ]
    },
    {
      "cell_type": "code",
      "source": [
        "que_obj.show()"
      ],
      "metadata": {
        "colab": {
          "base_uri": "https://localhost:8080/"
        },
        "id": "TRN5DkAUEjDi",
        "outputId": "b0e6045b-9c70-42e9-9fe0-2782c8ea09fa"
      },
      "execution_count": null,
      "outputs": [
        {
          "output_type": "stream",
          "name": "stdout",
          "text": [
            "[1, 2, 3, 4, 5]\n"
          ]
        }
      ]
    }
  ]
}