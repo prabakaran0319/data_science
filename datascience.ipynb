{
  "nbformat": 4,
  "nbformat_minor": 0,
  "metadata": {
    "colab": {
      "provenance": []
    },
    "kernelspec": {
      "name": "python3",
      "display_name": "Python 3"
    },
    "language_info": {
      "name": "python"
    }
  },
  "cells": [
    {
      "cell_type": "code",
      "execution_count": null,
      "metadata": {
        "id": "ASos_JQ5w6yw"
      },
      "outputs": [],
      "source": []
    },
    {
      "cell_type": "markdown",
      "source": [
        "# **30/08/24**"
      ],
      "metadata": {
        "id": "JVigFfsXyOKE"
      }
    },
    {
      "cell_type": "code",
      "source": [
        "#Python Basics\n",
        "#Variables\n",
        "a=5\n",
        "print(a)"
      ],
      "metadata": {
        "colab": {
          "base_uri": "https://localhost:8080/"
        },
        "id": "LaxV2u1hyXZH",
        "outputId": "0dafefeb-fbe8-43de-88dc-3ea4fff0297e"
      },
      "execution_count": null,
      "outputs": [
        {
          "output_type": "stream",
          "name": "stdout",
          "text": [
            "5\n"
          ]
        }
      ]
    },
    {
      "cell_type": "code",
      "source": [
        "#Keywords\n",
        "import keyword\n",
        "print(keyword.kwlist)"
      ],
      "metadata": {
        "colab": {
          "base_uri": "https://localhost:8080/"
        },
        "id": "7CJxbPKsy7C_",
        "outputId": "31149d47-2e8e-42e0-a9a0-9c4050e9a515"
      },
      "execution_count": null,
      "outputs": [
        {
          "output_type": "stream",
          "name": "stdout",
          "text": [
            "['False', 'None', 'True', 'and', 'as', 'assert', 'async', 'await', 'break', 'class', 'continue', 'def', 'del', 'elif', 'else', 'except', 'finally', 'for', 'from', 'global', 'if', 'import', 'in', 'is', 'lambda', 'nonlocal', 'not', 'or', 'pass', 'raise', 'return', 'try', 'while', 'with', 'yield']\n"
          ]
        }
      ]
    },
    {
      "cell_type": "code",
      "source": [
        "class=3\n",
        "print(class)"
      ],
      "metadata": {
        "colab": {
          "base_uri": "https://localhost:8080/",
          "height": 106
        },
        "id": "w6Dr1jc6zjCm",
        "outputId": "98de4e50-8063-4334-e748-19c5e5f2a8a8"
      },
      "execution_count": null,
      "outputs": [
        {
          "output_type": "error",
          "ename": "SyntaxError",
          "evalue": "invalid syntax (<ipython-input-3-9cba0bde2348>, line 1)",
          "traceback": [
            "\u001b[0;36m  File \u001b[0;32m\"<ipython-input-3-9cba0bde2348>\"\u001b[0;36m, line \u001b[0;32m1\u001b[0m\n\u001b[0;31m    class=3\u001b[0m\n\u001b[0m         ^\u001b[0m\n\u001b[0;31mSyntaxError\u001b[0m\u001b[0;31m:\u001b[0m invalid syntax\n"
          ]
        }
      ]
    },
    {
      "cell_type": "code",
      "source": [
        "2a=3\n",
        "print(2a)"
      ],
      "metadata": {
        "colab": {
          "base_uri": "https://localhost:8080/",
          "height": 106
        },
        "id": "2Sk28jt0zvva",
        "outputId": "4caaac3e-30b2-4369-9973-610226c1aef7"
      },
      "execution_count": null,
      "outputs": [
        {
          "output_type": "error",
          "ename": "SyntaxError",
          "evalue": "invalid decimal literal (<ipython-input-4-3337d5ec3b79>, line 1)",
          "traceback": [
            "\u001b[0;36m  File \u001b[0;32m\"<ipython-input-4-3337d5ec3b79>\"\u001b[0;36m, line \u001b[0;32m1\u001b[0m\n\u001b[0;31m    2a=3\u001b[0m\n\u001b[0m    ^\u001b[0m\n\u001b[0;31mSyntaxError\u001b[0m\u001b[0;31m:\u001b[0m invalid decimal literal\n"
          ]
        }
      ]
    },
    {
      "cell_type": "code",
      "source": [
        "a b=7\n",
        "print(a b)"
      ],
      "metadata": {
        "colab": {
          "base_uri": "https://localhost:8080/",
          "height": 106
        },
        "id": "xFYpa53zz75K",
        "outputId": "a036feeb-60df-4842-84d9-9bb2e5fe035a"
      },
      "execution_count": null,
      "outputs": [
        {
          "output_type": "error",
          "ename": "SyntaxError",
          "evalue": "invalid syntax (<ipython-input-5-eef8e28d13cc>, line 1)",
          "traceback": [
            "\u001b[0;36m  File \u001b[0;32m\"<ipython-input-5-eef8e28d13cc>\"\u001b[0;36m, line \u001b[0;32m1\u001b[0m\n\u001b[0;31m    a b=7\u001b[0m\n\u001b[0m      ^\u001b[0m\n\u001b[0;31mSyntaxError\u001b[0m\u001b[0;31m:\u001b[0m invalid syntax\n"
          ]
        }
      ]
    },
    {
      "cell_type": "code",
      "source": [
        "a__b=6\n",
        "print(a__b)"
      ],
      "metadata": {
        "colab": {
          "base_uri": "https://localhost:8080/"
        },
        "id": "XIagE7Xh0J4P",
        "outputId": "169e8616-ca02-463f-ac14-acf1db231e77"
      },
      "execution_count": null,
      "outputs": [
        {
          "output_type": "stream",
          "name": "stdout",
          "text": [
            "6\n"
          ]
        }
      ]
    },
    {
      "cell_type": "code",
      "source": [
        "#Datatypes in Python\n",
        "#Integer,string,float,boolean\n",
        "a = 4\n",
        "print(a)\n",
        "print(type(a))"
      ],
      "metadata": {
        "colab": {
          "base_uri": "https://localhost:8080/"
        },
        "id": "yyN0Pdwx0YJ5",
        "outputId": "1b1d58d0-2baa-4a44-82bf-203d2638b7b5"
      },
      "execution_count": null,
      "outputs": [
        {
          "output_type": "stream",
          "name": "stdout",
          "text": [
            "4\n",
            "<class 'int'>\n"
          ]
        }
      ]
    },
    {
      "cell_type": "code",
      "source": [
        "#String"
      ],
      "metadata": {
        "id": "siswNoik1oby"
      },
      "execution_count": null,
      "outputs": []
    },
    {
      "cell_type": "code",
      "source": [
        "g = \"4\"\n",
        "print(g)\n",
        "print(type(g))"
      ],
      "metadata": {
        "colab": {
          "base_uri": "https://localhost:8080/"
        },
        "id": "eOfBIzkt1OuB",
        "outputId": "1cdb9040-5086-46f8-95be-ca4f7b955c2c"
      },
      "execution_count": null,
      "outputs": [
        {
          "output_type": "stream",
          "name": "stdout",
          "text": [
            "4\n",
            "<class 'str'>\n"
          ]
        }
      ]
    },
    {
      "cell_type": "code",
      "source": [
        "h = \"dharshak\"\n",
        "print(h)\n",
        "print(type(h))"
      ],
      "metadata": {
        "colab": {
          "base_uri": "https://localhost:8080/"
        },
        "id": "8Mso5_9t1t8s",
        "outputId": "791028b3-a1eb-4837-9e0b-9a826b364cca"
      },
      "execution_count": null,
      "outputs": [
        {
          "output_type": "stream",
          "name": "stdout",
          "text": [
            "dharshak\n",
            "<class 'str'>\n"
          ]
        }
      ]
    },
    {
      "cell_type": "code",
      "source": [
        "d = \"    \"\n",
        "print(d)\n",
        "print(type(d))"
      ],
      "metadata": {
        "colab": {
          "base_uri": "https://localhost:8080/"
        },
        "id": "wtcjuEpX2B-f",
        "outputId": "485dfc8a-2ae1-4d32-ee81-38050ed06ded"
      },
      "execution_count": null,
      "outputs": [
        {
          "output_type": "stream",
          "name": "stdout",
          "text": [
            "    \n",
            "<class 'str'>\n"
          ]
        }
      ]
    },
    {
      "cell_type": "code",
      "source": [
        "#float"
      ],
      "metadata": {
        "id": "QlqJ8V8e2al6"
      },
      "execution_count": null,
      "outputs": []
    },
    {
      "cell_type": "code",
      "source": [
        "d = 4.5\n",
        "print(d)\n",
        "print(type(d))"
      ],
      "metadata": {
        "colab": {
          "base_uri": "https://localhost:8080/"
        },
        "id": "vvkpcL1o2dw4",
        "outputId": "ed49e6d3-03d1-4822-88de-c9c1b472c5c1"
      },
      "execution_count": null,
      "outputs": [
        {
          "output_type": "stream",
          "name": "stdout",
          "text": [
            "4.5\n",
            "<class 'float'>\n"
          ]
        }
      ]
    },
    {
      "cell_type": "code",
      "source": [
        "d = \"4.5\"\n",
        "print(d)\n",
        "print(type(d))"
      ],
      "metadata": {
        "colab": {
          "base_uri": "https://localhost:8080/"
        },
        "id": "dELh5Rzr2oho",
        "outputId": "e703c735-0c50-4bee-88d0-5984a0d3fb37"
      },
      "execution_count": null,
      "outputs": [
        {
          "output_type": "stream",
          "name": "stdout",
          "text": [
            "4.5\n",
            "<class 'str'>\n"
          ]
        }
      ]
    },
    {
      "cell_type": "code",
      "source": [
        "#boolean\n",
        "d = True\n",
        "print(d)\n",
        "print(type(d))"
      ],
      "metadata": {
        "colab": {
          "base_uri": "https://localhost:8080/"
        },
        "id": "BxuFUw3c2uto",
        "outputId": "6621db72-1594-4520-896b-03e948cd253c"
      },
      "execution_count": null,
      "outputs": [
        {
          "output_type": "stream",
          "name": "stdout",
          "text": [
            "True\n",
            "<class 'bool'>\n"
          ]
        }
      ]
    },
    {
      "cell_type": "code",
      "source": [
        "#operators"
      ],
      "metadata": {
        "id": "ZcVmxvOQ4S0y"
      },
      "execution_count": null,
      "outputs": []
    },
    {
      "cell_type": "code",
      "source": [
        "#arithmetic operators\n",
        "# + - addition , - subtraction , * multiply , / - division , // - floor division , % - modulus , ** - exponentiation"
      ],
      "metadata": {
        "id": "SG8SQsKq4c6Z"
      },
      "execution_count": null,
      "outputs": []
    },
    {
      "cell_type": "code",
      "source": [
        "#addition\n",
        "a = 5\n",
        "b = 6\n",
        "c = a+b\n",
        "print(c)"
      ],
      "metadata": {
        "colab": {
          "base_uri": "https://localhost:8080/"
        },
        "id": "aDkHGf1a47_h",
        "outputId": "99521b68-5045-4b6b-9bcb-70571bfc1a80"
      },
      "execution_count": null,
      "outputs": [
        {
          "output_type": "stream",
          "name": "stdout",
          "text": [
            "11\n"
          ]
        }
      ]
    },
    {
      "cell_type": "code",
      "source": [
        "#subtraction\n",
        "a = 5\n",
        "b = 6\n",
        "c = a-b\n",
        "print(c)"
      ],
      "metadata": {
        "colab": {
          "base_uri": "https://localhost:8080/"
        },
        "id": "oDNmkayQ5TK7",
        "outputId": "655cd91d-cb9b-4066-ebe9-790580040785"
      },
      "execution_count": null,
      "outputs": [
        {
          "output_type": "stream",
          "name": "stdout",
          "text": [
            "-1\n"
          ]
        }
      ]
    },
    {
      "cell_type": "code",
      "source": [
        "#multiply\n",
        "a = 5\n",
        "b = 6\n",
        "c = a*b\n",
        "print(c)"
      ],
      "metadata": {
        "colab": {
          "base_uri": "https://localhost:8080/"
        },
        "id": "HpVpmrNJ5eHu",
        "outputId": "35d386a4-8d31-454e-e043-d26bc7d449e1"
      },
      "execution_count": null,
      "outputs": [
        {
          "output_type": "stream",
          "name": "stdout",
          "text": [
            "30\n"
          ]
        }
      ]
    },
    {
      "cell_type": "code",
      "source": [
        "#division\n",
        "a = 18\n",
        "b = 6\n",
        "c = a/b\n",
        "print(c)"
      ],
      "metadata": {
        "colab": {
          "base_uri": "https://localhost:8080/"
        },
        "id": "E7EOeOV25yLY",
        "outputId": "eb7c6360-7ef5-42aa-c2bc-e461ad397490"
      },
      "execution_count": null,
      "outputs": [
        {
          "output_type": "stream",
          "name": "stdout",
          "text": [
            "3.0\n"
          ]
        }
      ]
    },
    {
      "cell_type": "code",
      "source": [
        "#floordivision\n",
        "a = 23\n",
        "b = 6\n",
        "c = a//b\n",
        "print(c)"
      ],
      "metadata": {
        "colab": {
          "base_uri": "https://localhost:8080/"
        },
        "id": "YWdTkGje6Snb",
        "outputId": "b711293b-f5f0-45d9-dafa-976b7d5e5dee"
      },
      "execution_count": null,
      "outputs": [
        {
          "output_type": "stream",
          "name": "stdout",
          "text": [
            "3\n"
          ]
        }
      ]
    },
    {
      "cell_type": "code",
      "source": [
        "#modulus\n",
        "a = 5\n",
        "b = 6\n",
        "c = a%b\n",
        "print(c)"
      ],
      "metadata": {
        "colab": {
          "base_uri": "https://localhost:8080/"
        },
        "id": "Satf1yDU6euu",
        "outputId": "1495e2a7-b96f-4659-e1fe-fddba7ca1096"
      },
      "execution_count": null,
      "outputs": [
        {
          "output_type": "stream",
          "name": "stdout",
          "text": [
            "5\n"
          ]
        }
      ]
    },
    {
      "cell_type": "code",
      "source": [
        "#exponentitation\n",
        "a = 3\n",
        "b = 5\n",
        "c = a**b\n",
        "print(c)"
      ],
      "metadata": {
        "colab": {
          "base_uri": "https://localhost:8080/"
        },
        "id": "3zmS6Cs36uqe",
        "outputId": "c5444547-a5a8-4a87-c6d9-9d9448af8661"
      },
      "execution_count": null,
      "outputs": [
        {
          "output_type": "stream",
          "name": "stdout",
          "text": [
            "243\n"
          ]
        }
      ]
    },
    {
      "cell_type": "code",
      "source": [
        "3*3*3*3*3"
      ],
      "metadata": {
        "colab": {
          "base_uri": "https://localhost:8080/"
        },
        "id": "TvDqF3Mt64AV",
        "outputId": "76f4364f-97c0-4d6f-be99-5fef35faaa10"
      },
      "execution_count": null,
      "outputs": [
        {
          "output_type": "execute_result",
          "data": {
            "text/plain": [
              "243"
            ]
          },
          "metadata": {},
          "execution_count": 22
        }
      ]
    },
    {
      "cell_type": "code",
      "source": [
        "#Assignment operators\n",
        "# = - equal to , += - plus equal to , -= - minus equal to , *= - multiplyequalto , /= - division equalto , //= floordivision equalto,\n",
        "# %= modulus equalto , **= exponentitation equalto"
      ],
      "metadata": {
        "id": "EDCxES4n7OKP"
      },
      "execution_count": null,
      "outputs": []
    },
    {
      "cell_type": "code",
      "source": [
        "a = 10\n",
        "b = 12\n",
        "a += b #a=a+b\n",
        "print(a)"
      ],
      "metadata": {
        "colab": {
          "base_uri": "https://localhost:8080/"
        },
        "id": "X12qIjxT7SAX",
        "outputId": "7595effc-ea11-4a1a-b2f5-612387f2bfe5"
      },
      "execution_count": null,
      "outputs": [
        {
          "output_type": "stream",
          "name": "stdout",
          "text": [
            "22\n"
          ]
        }
      ]
    },
    {
      "cell_type": "code",
      "source": [
        "a = 10\n",
        "b = 12\n",
        "a -= b #a=a-b\n",
        "print(a)"
      ],
      "metadata": {
        "colab": {
          "base_uri": "https://localhost:8080/"
        },
        "id": "SzpVzUVK8rR3",
        "outputId": "16f43ce9-d50e-403f-ce77-fbbc5d932373"
      },
      "execution_count": null,
      "outputs": [
        {
          "output_type": "stream",
          "name": "stdout",
          "text": [
            "-2\n"
          ]
        }
      ]
    },
    {
      "cell_type": "code",
      "source": [
        "a = 10\n",
        "b = 12\n",
        "a *= b #a=a*b\n",
        "print(a)"
      ],
      "metadata": {
        "colab": {
          "base_uri": "https://localhost:8080/"
        },
        "id": "78-Sp-v28zUP",
        "outputId": "70e157be-ab92-4b74-c05a-37a8c3171f97"
      },
      "execution_count": null,
      "outputs": [
        {
          "output_type": "stream",
          "name": "stdout",
          "text": [
            "120\n"
          ]
        }
      ]
    },
    {
      "cell_type": "code",
      "source": [
        "a = 10\n",
        "b = 12\n",
        "a /= b #a=a/b\n",
        "print(a)"
      ],
      "metadata": {
        "colab": {
          "base_uri": "https://localhost:8080/"
        },
        "id": "65L88qHV86d9",
        "outputId": "a94fa366-86f5-4b5e-c365-2a2ca312283a"
      },
      "execution_count": null,
      "outputs": [
        {
          "output_type": "stream",
          "name": "stdout",
          "text": [
            "0.8333333333333334\n"
          ]
        }
      ]
    },
    {
      "cell_type": "code",
      "source": [
        "a = 10\n",
        "b = 12\n",
        "a //= b #a=a//b\n",
        "print(a)"
      ],
      "metadata": {
        "colab": {
          "base_uri": "https://localhost:8080/"
        },
        "id": "ZuoM5hTk8_s9",
        "outputId": "70244b2d-604c-4f29-d9a0-07fc8f739a85"
      },
      "execution_count": null,
      "outputs": [
        {
          "output_type": "stream",
          "name": "stdout",
          "text": [
            "0\n"
          ]
        }
      ]
    },
    {
      "cell_type": "code",
      "source": [
        "a = 10\n",
        "b = 12\n",
        "a %= b #a=a%b\n",
        "print(a)"
      ],
      "metadata": {
        "colab": {
          "base_uri": "https://localhost:8080/"
        },
        "id": "bV__lXC29MEW",
        "outputId": "811a1b9e-361b-4d58-b1fd-d1c050689abd"
      },
      "execution_count": null,
      "outputs": [
        {
          "output_type": "stream",
          "name": "stdout",
          "text": [
            "10\n"
          ]
        }
      ]
    },
    {
      "cell_type": "code",
      "source": [
        "a = 10\n",
        "b = 12\n",
        "a **= b #a=a**b\n",
        "print(a)"
      ],
      "metadata": {
        "colab": {
          "base_uri": "https://localhost:8080/"
        },
        "id": "UMUUZ5Ih9F6t",
        "outputId": "785c12df-15af-4cdb-fbfb-a0dded4ffc06"
      },
      "execution_count": null,
      "outputs": [
        {
          "output_type": "stream",
          "name": "stdout",
          "text": [
            "1000000000000\n"
          ]
        }
      ]
    },
    {
      "cell_type": "code",
      "source": [
        "#input function\n",
        "a = int(input(\"enter the value of a :\")) #type conversion\n",
        "print(type(a))\n",
        "b = int(input(\"enter the value of b :\"))\n",
        "print(type(b))\n",
        "c = a+b\n",
        "print(c)\n"
      ],
      "metadata": {
        "colab": {
          "base_uri": "https://localhost:8080/"
        },
        "id": "P97Ke_ui9jkp",
        "outputId": "a2ab919b-ff5e-44b5-dde1-3c147fc05982"
      },
      "execution_count": null,
      "outputs": [
        {
          "output_type": "stream",
          "name": "stdout",
          "text": [
            "enter the value of a :10\n",
            "<class 'int'>\n",
            "enter the value of b :15\n",
            "<class 'int'>\n",
            "25\n"
          ]
        }
      ]
    },
    {
      "cell_type": "code",
      "source": [
        "#comparison operator\n",
        "# == - equalto equalto, <= - lessthen equalto , >= greaterthen equalto , != notqualto , < - lessthen , > - greator then"
      ],
      "metadata": {
        "id": "Y8qKE2S-_c5o"
      },
      "execution_count": null,
      "outputs": []
    },
    {
      "cell_type": "code",
      "source": [
        "a = 120\n",
        "a == 12"
      ],
      "metadata": {
        "colab": {
          "base_uri": "https://localhost:8080/"
        },
        "id": "jwQtZ5rr_82g",
        "outputId": "8f39517a-b8e5-456b-95d7-88aabd9c341b"
      },
      "execution_count": null,
      "outputs": [
        {
          "output_type": "execute_result",
          "data": {
            "text/plain": [
              "False"
            ]
          },
          "metadata": {},
          "execution_count": 35
        }
      ]
    },
    {
      "cell_type": "code",
      "source": [
        "\n",
        "a = 145\n",
        "a <= 145"
      ],
      "metadata": {
        "colab": {
          "base_uri": "https://localhost:8080/"
        },
        "id": "HJJ-bf4UAZWW",
        "outputId": "b0da5ff5-7117-4332-b290-ce30f52af6a8"
      },
      "execution_count": null,
      "outputs": [
        {
          "output_type": "execute_result",
          "data": {
            "text/plain": [
              "True"
            ]
          },
          "metadata": {},
          "execution_count": 38
        }
      ]
    },
    {
      "cell_type": "code",
      "source": [
        "a = 145\n",
        "a >= 145"
      ],
      "metadata": {
        "colab": {
          "base_uri": "https://localhost:8080/"
        },
        "id": "ljpnaZflBbhF",
        "outputId": "a61ff1b2-8080-4b39-de3d-fbc07080c6df"
      },
      "execution_count": null,
      "outputs": [
        {
          "output_type": "execute_result",
          "data": {
            "text/plain": [
              "True"
            ]
          },
          "metadata": {},
          "execution_count": 41
        }
      ]
    },
    {
      "cell_type": "code",
      "source": [
        "a = 145\n",
        "a != 50"
      ],
      "metadata": {
        "colab": {
          "base_uri": "https://localhost:8080/"
        },
        "id": "RK6GLb0iB9cB",
        "outputId": "7c138595-24b3-48bf-9655-10f5bb07b550"
      },
      "execution_count": null,
      "outputs": [
        {
          "output_type": "execute_result",
          "data": {
            "text/plain": [
              "True"
            ]
          },
          "metadata": {},
          "execution_count": 43
        }
      ]
    },
    {
      "cell_type": "code",
      "source": [
        "a = 145\n",
        "a > 150"
      ],
      "metadata": {
        "colab": {
          "base_uri": "https://localhost:8080/"
        },
        "id": "nZkdSe7BCNkH",
        "outputId": "1195447e-eadb-40a0-b911-9bd9f7c9e4a1"
      },
      "execution_count": null,
      "outputs": [
        {
          "output_type": "execute_result",
          "data": {
            "text/plain": [
              "False"
            ]
          },
          "metadata": {},
          "execution_count": 47
        }
      ]
    },
    {
      "cell_type": "code",
      "source": [
        "#logical operators\n",
        "# and , or , not"
      ],
      "metadata": {
        "id": "8aniYhpyDNQa"
      },
      "execution_count": null,
      "outputs": []
    },
    {
      "cell_type": "code",
      "source": [
        "a = 10\n",
        "a < 20 and a == 11 # satisfies all conditions"
      ],
      "metadata": {
        "colab": {
          "base_uri": "https://localhost:8080/"
        },
        "id": "i79uW82vDaJr",
        "outputId": "7f900a08-3069-423f-8eb7-8cfa5ce86e45"
      },
      "execution_count": null,
      "outputs": [
        {
          "output_type": "execute_result",
          "data": {
            "text/plain": [
              "False"
            ]
          },
          "metadata": {},
          "execution_count": 49
        }
      ]
    },
    {
      "cell_type": "code",
      "source": [
        "a = 10\n",
        "a < 20 or a == 11 # satisfy any one condition"
      ],
      "metadata": {
        "colab": {
          "base_uri": "https://localhost:8080/"
        },
        "id": "_KpYupM_EN_C",
        "outputId": "6ce9af39-d055-43ed-b28d-f0bb2c46e128"
      },
      "execution_count": null,
      "outputs": [
        {
          "output_type": "execute_result",
          "data": {
            "text/plain": [
              "True"
            ]
          },
          "metadata": {},
          "execution_count": 50
        }
      ]
    },
    {
      "cell_type": "code",
      "source": [
        "a = 100\n",
        "not a < 20"
      ],
      "metadata": {
        "colab": {
          "base_uri": "https://localhost:8080/"
        },
        "id": "sEkDyQiMEg5x",
        "outputId": "5f251451-db66-469b-9d9c-53274420c1b0"
      },
      "execution_count": null,
      "outputs": [
        {
          "output_type": "execute_result",
          "data": {
            "text/plain": [
              "True"
            ]
          },
          "metadata": {},
          "execution_count": 55
        }
      ]
    },
    {
      "cell_type": "code",
      "source": [],
      "metadata": {
        "id": "R7ia-FL0MeQW"
      },
      "execution_count": null,
      "outputs": []
    },
    {
      "cell_type": "markdown",
      "source": [
        "# **Sep 2 2024**"
      ],
      "metadata": {
        "id": "cM7OkiVMSBdR"
      }
    },
    {
      "cell_type": "code",
      "source": [
        "#if conditions"
      ],
      "metadata": {
        "id": "SGqpXRrKMmeM"
      },
      "execution_count": null,
      "outputs": []
    },
    {
      "cell_type": "code",
      "source": [
        "a = int(input(\"enter the age:\"))\n",
        "if a >= 18:\n",
        "  print(\"your are eligible\")\n"
      ],
      "metadata": {
        "colab": {
          "base_uri": "https://localhost:8080/"
        },
        "id": "008inS6zMqUu",
        "outputId": "df9b0208-808f-4f48-d25a-722d09920910"
      },
      "execution_count": null,
      "outputs": [
        {
          "name": "stdout",
          "output_type": "stream",
          "text": [
            "enter the age:17\n"
          ]
        }
      ]
    },
    {
      "cell_type": "code",
      "source": [
        "#else conditions"
      ],
      "metadata": {
        "id": "BAuO1RhKNq-x"
      },
      "execution_count": null,
      "outputs": []
    },
    {
      "cell_type": "code",
      "source": [
        "a = int(input(\"enter the age:\"))\n",
        "if a >= 18:\n",
        "  print(\"your are eligible\")\n",
        "elif a <=0 or a >=130:\n",
        "  print(\"enter the age correctly\")\n",
        "else:\n",
        "  print(\"not eligible for vote\")"
      ],
      "metadata": {
        "id": "eTOa8M0-NZ3D"
      },
      "execution_count": null,
      "outputs": []
    },
    {
      "cell_type": "code",
      "source": [
        "#for loop, while loop and range"
      ],
      "metadata": {
        "id": "yzFnlVp2PP5y"
      },
      "execution_count": null,
      "outputs": []
    },
    {
      "cell_type": "code",
      "source": [
        "range(10) # 0 to 9 (total 10 values)"
      ],
      "metadata": {
        "colab": {
          "base_uri": "https://localhost:8080/"
        },
        "id": "oader5OePY4n",
        "outputId": "2a337eda-58c0-4c77-9b78-7be5cb1c1711"
      },
      "execution_count": null,
      "outputs": [
        {
          "output_type": "execute_result",
          "data": {
            "text/plain": [
              "range(0, 10)"
            ]
          },
          "metadata": {},
          "execution_count": 7
        }
      ]
    },
    {
      "cell_type": "code",
      "source": [
        "range(0,10)"
      ],
      "metadata": {
        "colab": {
          "base_uri": "https://localhost:8080/"
        },
        "id": "CmAg4QptPw3R",
        "outputId": "28eebd93-cdd9-496f-f4c1-7312cef931b1"
      },
      "execution_count": null,
      "outputs": [
        {
          "output_type": "execute_result",
          "data": {
            "text/plain": [
              "range(0, 10)"
            ]
          },
          "metadata": {},
          "execution_count": 8
        }
      ]
    },
    {
      "cell_type": "code",
      "source": [
        "for i in range(10): # i is a variable (we can use any)\n",
        " print(i)"
      ],
      "metadata": {
        "colab": {
          "base_uri": "https://localhost:8080/"
        },
        "id": "erhig0CYP0_I",
        "outputId": "32c81db0-f763-4891-f3e9-e3833d6d7aa7"
      },
      "execution_count": null,
      "outputs": [
        {
          "output_type": "stream",
          "name": "stdout",
          "text": [
            "0\n",
            "1\n",
            "2\n",
            "3\n",
            "4\n",
            "5\n",
            "6\n",
            "7\n",
            "8\n",
            "9\n"
          ]
        }
      ]
    },
    {
      "cell_type": "code",
      "source": [
        "for i in range(5,26,5): #\n",
        " print(i)"
      ],
      "metadata": {
        "colab": {
          "base_uri": "https://localhost:8080/"
        },
        "id": "UD-BNLMJQk44",
        "outputId": "340ce12c-e79f-4a6d-cc6c-611492dfc2cd"
      },
      "execution_count": null,
      "outputs": [
        {
          "output_type": "stream",
          "name": "stdout",
          "text": [
            "5\n",
            "10\n",
            "15\n",
            "20\n",
            "25\n"
          ]
        }
      ]
    },
    {
      "cell_type": "code",
      "source": [
        "for i in range(0,10,2):\n",
        " print(i)"
      ],
      "metadata": {
        "colab": {
          "base_uri": "https://localhost:8080/"
        },
        "id": "bResY-DERPd-",
        "outputId": "a748b7ed-7251-48b6-9051-4ec3a360b0f1"
      },
      "execution_count": null,
      "outputs": [
        {
          "output_type": "stream",
          "name": "stdout",
          "text": [
            "0\n",
            "2\n",
            "4\n",
            "6\n",
            "8\n"
          ]
        }
      ]
    },
    {
      "cell_type": "code",
      "source": [
        "for i in range(-10,2,2):\n",
        " print(i)"
      ],
      "metadata": {
        "colab": {
          "base_uri": "https://localhost:8080/"
        },
        "id": "y3axK31QRWWK",
        "outputId": "7276b973-4954-48d8-fa34-76231a34aa95"
      },
      "execution_count": null,
      "outputs": [
        {
          "output_type": "stream",
          "name": "stdout",
          "text": [
            "-10\n",
            "-8\n",
            "-6\n",
            "-4\n",
            "-2\n",
            "0\n"
          ]
        }
      ]
    },
    {
      "cell_type": "code",
      "source": [
        "#nested loop"
      ],
      "metadata": {
        "id": "zm872JPTU17t"
      },
      "execution_count": null,
      "outputs": []
    },
    {
      "cell_type": "code",
      "source": [
        "for i in [\"praba\",\"dharshak\",\"vignesh\"]:\n",
        "  print(i)\n",
        "  for var in [1,2,3]:\n",
        "    print(var)"
      ],
      "metadata": {
        "colab": {
          "base_uri": "https://localhost:8080/"
        },
        "id": "m0RY-1JZTzqS",
        "outputId": "40a65269-50e8-4d8c-973e-10e1cf7f0072"
      },
      "execution_count": null,
      "outputs": [
        {
          "output_type": "stream",
          "name": "stdout",
          "text": [
            "praba\n",
            "1\n",
            "2\n",
            "3\n",
            "dharshak\n",
            "1\n",
            "2\n",
            "3\n",
            "vignesh\n",
            "1\n",
            "2\n",
            "3\n"
          ]
        }
      ]
    },
    {
      "cell_type": "code",
      "source": [
        "for i in [\"praba\",\"dharshak\",\"vignesh\"]:\n",
        "  print(i)\n",
        "  for var in [1,2,3]:\n",
        "    print(var)\n",
        "    for j in [\"aa\",\"bb\",\"cc\"]:\n",
        "     print(j)"
      ],
      "metadata": {
        "colab": {
          "base_uri": "https://localhost:8080/"
        },
        "id": "A9RiUz4aU6Pm",
        "outputId": "45cd7c97-6b6b-442f-b39f-5b6989a9f89f"
      },
      "execution_count": null,
      "outputs": [
        {
          "output_type": "stream",
          "name": "stdout",
          "text": [
            "praba\n",
            "1\n",
            "aa\n",
            "bb\n",
            "cc\n",
            "2\n",
            "aa\n",
            "bb\n",
            "cc\n",
            "3\n",
            "aa\n",
            "bb\n",
            "cc\n",
            "dharshak\n",
            "1\n",
            "aa\n",
            "bb\n",
            "cc\n",
            "2\n",
            "aa\n",
            "bb\n",
            "cc\n",
            "3\n",
            "aa\n",
            "bb\n",
            "cc\n",
            "vignesh\n",
            "1\n",
            "aa\n",
            "bb\n",
            "cc\n",
            "2\n",
            "aa\n",
            "bb\n",
            "cc\n",
            "3\n",
            "aa\n",
            "bb\n",
            "cc\n"
          ]
        }
      ]
    },
    {
      "cell_type": "code",
      "source": [
        "#while loop"
      ],
      "metadata": {
        "id": "CVX0Uk3AVW3-"
      },
      "execution_count": null,
      "outputs": []
    },
    {
      "cell_type": "code",
      "source": [
        "while True:\n",
        "  print(\"praba\")"
      ],
      "metadata": {
        "id": "ZOCnNREQVYk9"
      },
      "execution_count": null,
      "outputs": []
    },
    {
      "cell_type": "code",
      "source": [
        "i = 0\n",
        "while i <= 10:\n",
        "  print(i)\n",
        "  i +=1 # i = i +1"
      ],
      "metadata": {
        "colab": {
          "base_uri": "https://localhost:8080/"
        },
        "id": "YiO7BtDzWpyX",
        "outputId": "0c0e9faf-6b98-4d93-dd8e-ab567c592d26"
      },
      "execution_count": null,
      "outputs": [
        {
          "output_type": "stream",
          "name": "stdout",
          "text": [
            "0\n",
            "1\n",
            "2\n",
            "3\n",
            "4\n",
            "5\n",
            "6\n",
            "7\n",
            "8\n",
            "9\n",
            "10\n"
          ]
        }
      ]
    },
    {
      "cell_type": "code",
      "source": [
        "i = 0\n",
        "while i <= 10:\n",
        "  print(i)\n",
        "  i +=1 # i = i +1\n",
        "else:\n",
        "  print(\"loop completed\")"
      ],
      "metadata": {
        "colab": {
          "base_uri": "https://localhost:8080/"
        },
        "id": "f-FP8hHTXwyc",
        "outputId": "4e7ccb06-fb00-4d1d-a8ab-e3706f56fe9b"
      },
      "execution_count": null,
      "outputs": [
        {
          "output_type": "stream",
          "name": "stdout",
          "text": [
            "0\n",
            "1\n",
            "2\n",
            "3\n",
            "4\n",
            "5\n",
            "6\n",
            "7\n",
            "8\n",
            "9\n",
            "10\n",
            "loop completed\n"
          ]
        }
      ]
    },
    {
      "cell_type": "code",
      "source": [
        "#datatypes\n",
        "#list\n",
        "#dictionary\n",
        "#set\n",
        "#tuple"
      ],
      "metadata": {
        "id": "jAyYjGX-YN47"
      },
      "execution_count": null,
      "outputs": []
    },
    {
      "cell_type": "code",
      "source": [
        "#list\n",
        "list_1=[1,2.3,\"hello\",True] #mutable\n",
        "print(type(list_1))"
      ],
      "metadata": {
        "colab": {
          "base_uri": "https://localhost:8080/"
        },
        "id": "P0P2DNY9YS6q",
        "outputId": "d2bb7b90-3452-451d-8a59-0b79761b4687"
      },
      "execution_count": null,
      "outputs": [
        {
          "output_type": "stream",
          "name": "stdout",
          "text": [
            "<class 'list'>\n"
          ]
        }
      ]
    },
    {
      "cell_type": "code",
      "source": [
        "list_2=[1,2.3,\"hello\",True]\n",
        "list_2"
      ],
      "metadata": {
        "colab": {
          "base_uri": "https://localhost:8080/"
        },
        "id": "Jo1ZglKoaNRj",
        "outputId": "deb101d1-58cd-40ba-f33b-553c5352629f"
      },
      "execution_count": null,
      "outputs": [
        {
          "output_type": "execute_result",
          "data": {
            "text/plain": [
              "[1, 2.3, 'hello', True]"
            ]
          },
          "metadata": {},
          "execution_count": 43
        }
      ]
    },
    {
      "cell_type": "code",
      "source": [
        "list_2.append(\"hi\")\n",
        "list_2"
      ],
      "metadata": {
        "colab": {
          "base_uri": "https://localhost:8080/"
        },
        "id": "BXd6mh2DamJu",
        "outputId": "d2a3e825-edb9-45f8-8e37-3a1009f75bd4"
      },
      "execution_count": null,
      "outputs": [
        {
          "output_type": "execute_result",
          "data": {
            "text/plain": [
              "[1, 2.3, 'hello', True, 'hi']"
            ]
          },
          "metadata": {},
          "execution_count": 44
        }
      ]
    },
    {
      "cell_type": "code",
      "source": [
        "list_2"
      ],
      "metadata": {
        "colab": {
          "base_uri": "https://localhost:8080/"
        },
        "id": "sEXLvmWnb1Le",
        "outputId": "a603f4dc-23ae-46fc-c980-e631e5923fbd"
      },
      "execution_count": null,
      "outputs": [
        {
          "output_type": "execute_result",
          "data": {
            "text/plain": [
              "[1, 2.3, 'hello', True, 'hi']"
            ]
          },
          "metadata": {},
          "execution_count": 45
        }
      ]
    },
    {
      "cell_type": "code",
      "source": [
        "list_em =[]"
      ],
      "metadata": {
        "id": "W0ak37ZUcLZO"
      },
      "execution_count": null,
      "outputs": []
    },
    {
      "cell_type": "code",
      "source": [
        "list_em =[]\n",
        "for i in range(5):\n",
        "  list_em.append(i)\n",
        "\n",
        "print(list_em)"
      ],
      "metadata": {
        "colab": {
          "base_uri": "https://localhost:8080/"
        },
        "id": "v9MYXyegcEKM",
        "outputId": "225065af-4a77-42df-b588-0131a199b481"
      },
      "execution_count": null,
      "outputs": [
        {
          "output_type": "stream",
          "name": "stdout",
          "text": [
            "[0, 1, 2, 3, 4]\n"
          ]
        }
      ]
    },
    {
      "cell_type": "code",
      "source": [
        "list_2[2] #indexing"
      ],
      "metadata": {
        "colab": {
          "base_uri": "https://localhost:8080/",
          "height": 36
        },
        "id": "lWmLTUL8c_ij",
        "outputId": "3334334f-318d-4181-8879-4c90af6751dc"
      },
      "execution_count": null,
      "outputs": [
        {
          "output_type": "execute_result",
          "data": {
            "text/plain": [
              "'hello'"
            ],
            "application/vnd.google.colaboratory.intrinsic+json": {
              "type": "string"
            }
          },
          "metadata": {},
          "execution_count": 57
        }
      ]
    },
    {
      "cell_type": "code",
      "source": [
        "list_2"
      ],
      "metadata": {
        "colab": {
          "base_uri": "https://localhost:8080/"
        },
        "id": "nBvEb-EcdxeT",
        "outputId": "4361ef24-79b7-4057-c8c3-68bd35f093e0"
      },
      "execution_count": null,
      "outputs": [
        {
          "output_type": "execute_result",
          "data": {
            "text/plain": [
              "[1, 2.3, 'hello', True, 'hi']"
            ]
          },
          "metadata": {},
          "execution_count": 62
        }
      ]
    },
    {
      "cell_type": "code",
      "source": [
        "list_2[-1:-5:-1]"
      ],
      "metadata": {
        "colab": {
          "base_uri": "https://localhost:8080/"
        },
        "id": "gmeicTUyeiPa",
        "outputId": "4aca9fae-7adc-4c3e-ef01-40b549824941"
      },
      "execution_count": null,
      "outputs": [
        {
          "output_type": "execute_result",
          "data": {
            "text/plain": [
              "['hi', True, 'hello', 2.3]"
            ]
          },
          "metadata": {},
          "execution_count": 65
        }
      ]
    },
    {
      "cell_type": "code",
      "source": [
        "list_2\n"
      ],
      "metadata": {
        "colab": {
          "base_uri": "https://localhost:8080/"
        },
        "id": "GKeKpOgjfeN5",
        "outputId": "557144dd-7a3a-49d3-ff24-aa44defb8279"
      },
      "execution_count": null,
      "outputs": [
        {
          "output_type": "execute_result",
          "data": {
            "text/plain": [
              "[1, 2.3, 'hello', True, 'hi']"
            ]
          },
          "metadata": {},
          "execution_count": 66
        }
      ]
    },
    {
      "cell_type": "code",
      "source": [
        "list_2.append(70)"
      ],
      "metadata": {
        "id": "vL9W8ndWgRAj"
      },
      "execution_count": null,
      "outputs": []
    },
    {
      "cell_type": "code",
      "source": [
        "list_2"
      ],
      "metadata": {
        "colab": {
          "base_uri": "https://localhost:8080/"
        },
        "id": "s7ON2oBsgVmD",
        "outputId": "f62c4cb9-714d-4cfe-952e-dcbbc782f926"
      },
      "execution_count": null,
      "outputs": [
        {
          "output_type": "execute_result",
          "data": {
            "text/plain": [
              "[1, 2.3, 'hello', True, 'hi', 70]"
            ]
          },
          "metadata": {},
          "execution_count": 68
        }
      ]
    },
    {
      "cell_type": "code",
      "source": [
        "list_2.count(\"hello\") #count the data"
      ],
      "metadata": {
        "colab": {
          "base_uri": "https://localhost:8080/"
        },
        "id": "t7m5gEgLgf2P",
        "outputId": "e7016a9c-8fac-4c01-c839-9e4da9c52936"
      },
      "execution_count": null,
      "outputs": [
        {
          "output_type": "execute_result",
          "data": {
            "text/plain": [
              "1"
            ]
          },
          "metadata": {},
          "execution_count": 69
        }
      ]
    },
    {
      "cell_type": "code",
      "source": [
        "list_2.count(1) #it count the true value"
      ],
      "metadata": {
        "colab": {
          "base_uri": "https://localhost:8080/"
        },
        "id": "l8rP-pw8g1jv",
        "outputId": "4945e30a-6575-44ca-c4d4-28a8824ec875"
      },
      "execution_count": null,
      "outputs": [
        {
          "output_type": "execute_result",
          "data": {
            "text/plain": [
              "2"
            ]
          },
          "metadata": {},
          "execution_count": 70
        }
      ]
    },
    {
      "cell_type": "code",
      "source": [
        "list_2.count(0) #it count the false value"
      ],
      "metadata": {
        "colab": {
          "base_uri": "https://localhost:8080/"
        },
        "id": "CL_08BNhg_g7",
        "outputId": "064b26eb-9296-4746-d77d-de67f5f991c3"
      },
      "execution_count": null,
      "outputs": [
        {
          "output_type": "execute_result",
          "data": {
            "text/plain": [
              "0"
            ]
          },
          "metadata": {},
          "execution_count": 71
        }
      ]
    },
    {
      "cell_type": "code",
      "source": [
        "dir(list)"
      ],
      "metadata": {
        "colab": {
          "base_uri": "https://localhost:8080/"
        },
        "id": "bum3lArziVhD",
        "outputId": "e29e6360-ffb1-413d-9b7b-d5d0897e0f91"
      },
      "execution_count": null,
      "outputs": [
        {
          "output_type": "execute_result",
          "data": {
            "text/plain": [
              "['__add__',\n",
              " '__class__',\n",
              " '__class_getitem__',\n",
              " '__contains__',\n",
              " '__delattr__',\n",
              " '__delitem__',\n",
              " '__dir__',\n",
              " '__doc__',\n",
              " '__eq__',\n",
              " '__format__',\n",
              " '__ge__',\n",
              " '__getattribute__',\n",
              " '__getitem__',\n",
              " '__gt__',\n",
              " '__hash__',\n",
              " '__iadd__',\n",
              " '__imul__',\n",
              " '__init__',\n",
              " '__init_subclass__',\n",
              " '__iter__',\n",
              " '__le__',\n",
              " '__len__',\n",
              " '__lt__',\n",
              " '__mul__',\n",
              " '__ne__',\n",
              " '__new__',\n",
              " '__reduce__',\n",
              " '__reduce_ex__',\n",
              " '__repr__',\n",
              " '__reversed__',\n",
              " '__rmul__',\n",
              " '__setattr__',\n",
              " '__setitem__',\n",
              " '__sizeof__',\n",
              " '__str__',\n",
              " '__subclasshook__',\n",
              " 'append',\n",
              " 'clear',\n",
              " 'copy',\n",
              " 'count',\n",
              " 'extend',\n",
              " 'index',\n",
              " 'insert',\n",
              " 'pop',\n",
              " 'remove',\n",
              " 'reverse',\n",
              " 'sort']"
            ]
          },
          "metadata": {},
          "execution_count": 72
        }
      ]
    },
    {
      "cell_type": "code",
      "source": [
        "list_2"
      ],
      "metadata": {
        "colab": {
          "base_uri": "https://localhost:8080/"
        },
        "id": "67slGkc3ii2n",
        "outputId": "dc5f4cd2-56ae-4cf2-f4d7-08729e27c0da"
      },
      "execution_count": null,
      "outputs": [
        {
          "output_type": "execute_result",
          "data": {
            "text/plain": [
              "[1, 2.3, 'hello', True, 'hi', 70]"
            ]
          },
          "metadata": {},
          "execution_count": 73
        }
      ]
    },
    {
      "cell_type": "code",
      "source": [
        "list_2.index(\"hello\")"
      ],
      "metadata": {
        "colab": {
          "base_uri": "https://localhost:8080/"
        },
        "id": "Q3UOlaiFipnr",
        "outputId": "c6ba6f56-935a-4bf5-dc02-9408f42d8bdc"
      },
      "execution_count": null,
      "outputs": [
        {
          "output_type": "execute_result",
          "data": {
            "text/plain": [
              "2"
            ]
          },
          "metadata": {},
          "execution_count": 74
        }
      ]
    },
    {
      "cell_type": "code",
      "source": [
        "list_3 = list_2.copy()"
      ],
      "metadata": {
        "id": "ZhB4-maOjrdC"
      },
      "execution_count": null,
      "outputs": []
    },
    {
      "cell_type": "code",
      "source": [
        "print(list_3)"
      ],
      "metadata": {
        "colab": {
          "base_uri": "https://localhost:8080/"
        },
        "id": "A8b8mYsXjxSV",
        "outputId": "0c3364ee-812a-4e84-b1a5-ab22ebff5de3"
      },
      "execution_count": null,
      "outputs": [
        {
          "output_type": "stream",
          "name": "stdout",
          "text": [
            "[1, 2.3, 'hello', True, 'hi', 70]\n"
          ]
        }
      ]
    },
    {
      "cell_type": "code",
      "source": [
        "# diff between extend and append and how it works?"
      ],
      "metadata": {
        "id": "haPdQuiUkAXs"
      },
      "execution_count": null,
      "outputs": []
    },
    {
      "cell_type": "code",
      "source": [
        "#sort\n"
      ],
      "metadata": {
        "id": "kppPVVnWkOpZ"
      },
      "execution_count": null,
      "outputs": []
    },
    {
      "cell_type": "code",
      "source": [
        "list_4 = [1,3,-4,3.4,56,0]\n",
        "list_4.sort()"
      ],
      "metadata": {
        "id": "vMwn1o2PkQ-x"
      },
      "execution_count": null,
      "outputs": []
    },
    {
      "cell_type": "code",
      "source": [
        "list_4"
      ],
      "metadata": {
        "colab": {
          "base_uri": "https://localhost:8080/"
        },
        "id": "214lKEnyketb",
        "outputId": "7ff6e386-5e87-424f-9657-a07dbc1d52a5"
      },
      "execution_count": null,
      "outputs": [
        {
          "output_type": "execute_result",
          "data": {
            "text/plain": [
              "[-4, 0, 1, 3, 3.4, 56]"
            ]
          },
          "metadata": {},
          "execution_count": 82
        }
      ]
    },
    {
      "cell_type": "code",
      "source": [
        "list_4.sort(reverse=True)\n",
        "print(list_4)"
      ],
      "metadata": {
        "colab": {
          "base_uri": "https://localhost:8080/"
        },
        "id": "4tKRmrJnk7QO",
        "outputId": "8e62ac02-62d3-417b-bc68-11b85e20f5ff"
      },
      "execution_count": null,
      "outputs": [
        {
          "output_type": "stream",
          "name": "stdout",
          "text": [
            "[56, 3.4, 3, 1, 0, -4]\n"
          ]
        }
      ]
    },
    {
      "cell_type": "code",
      "source": [
        "#append\n",
        "\"\"\"Purpose: Adds a single element to the end of the list.\n",
        "How It Works: The element you provide to append() is added as a single item at\n",
        "the end of the list, regardless of whether it is a single value, another list,\n",
        "or any other data type.\"\"\""
      ],
      "metadata": {
        "id": "EQHDA0GbT8AZ"
      },
      "execution_count": null,
      "outputs": []
    },
    {
      "cell_type": "code",
      "source": [
        "mylist = [1,2,3]\n",
        "mylist.append(4)\n",
        "print(mylist)"
      ],
      "metadata": {
        "colab": {
          "base_uri": "https://localhost:8080/"
        },
        "id": "mrAijGc4T9hj",
        "outputId": "bb57a0db-5b42-4bf6-824c-e35e7f7a7153"
      },
      "execution_count": null,
      "outputs": [
        {
          "output_type": "stream",
          "name": "stdout",
          "text": [
            "[1, 2, 3, 4]\n"
          ]
        }
      ]
    },
    {
      "cell_type": "code",
      "source": [
        "mylist.append([5,6,7])\n",
        "print(mylist)"
      ],
      "metadata": {
        "colab": {
          "base_uri": "https://localhost:8080/"
        },
        "id": "MyiBlUT3UJqA",
        "outputId": "0d5eea45-0808-4654-a148-9584e9bcdc11"
      },
      "execution_count": null,
      "outputs": [
        {
          "output_type": "stream",
          "name": "stdout",
          "text": [
            "[1, 2, 3, 4, [5, 6, 7]]\n"
          ]
        }
      ]
    },
    {
      "cell_type": "code",
      "source": [
        "#extend\n",
        "\"\"\"Purpose: Adds all elements of an iterable (like a list, tuple, or string) to\n",
        "the end of the list.\n",
        "How It Works: The elements of the iterable you provide to extend() are\n",
        "individually added to the list, rather than adding the iterable itself as a single element.\"\"\""
      ],
      "metadata": {
        "id": "kdomWIqiUy1x"
      },
      "execution_count": null,
      "outputs": []
    },
    {
      "cell_type": "code",
      "source": [
        "my_list=[1,2,3,4] #extending with list\n",
        "my_list.extend([5,6])\n",
        "print(my_list)"
      ],
      "metadata": {
        "colab": {
          "base_uri": "https://localhost:8080/"
        },
        "id": "YX7WAbeHVEbB",
        "outputId": "3aaf94d9-ee90-415b-c90f-209d09a1a36e"
      },
      "execution_count": null,
      "outputs": [
        {
          "output_type": "stream",
          "name": "stdout",
          "text": [
            "[1, 2, 3, 4, 5, 6]\n"
          ]
        }
      ]
    },
    {
      "cell_type": "code",
      "source": [
        "my_list.extend(\"78\") #extending with string\n",
        "print(my_list)"
      ],
      "metadata": {
        "colab": {
          "base_uri": "https://localhost:8080/"
        },
        "id": "1IPdP1c8VUgR",
        "outputId": "03b5fe49-bb20-4555-8f24-04372686dd9c"
      },
      "execution_count": null,
      "outputs": [
        {
          "output_type": "stream",
          "name": "stdout",
          "text": [
            "[1, 2, 3, 4, 5, 6, '7', '8']\n"
          ]
        }
      ]
    },
    {
      "cell_type": "code",
      "source": [
        "\"\"\"Key Differences:\n",
        "append():\n",
        "\n",
        "Adds its argument as a single element to the end of the list.\n",
        "If the argument is a list, it is added as a single nested list.\n",
        "extend():\n",
        "\n",
        "Iterates over its argument, adding each element to the list.\n",
        "If the argument is a list, each element of the list is added to the original list individually.\"\"\""
      ],
      "metadata": {
        "id": "eK-RPPKCV5cP"
      },
      "execution_count": null,
      "outputs": []
    },
    {
      "cell_type": "code",
      "source": [
        "#visual example"
      ],
      "metadata": {
        "id": "aHaCh32GWybc"
      },
      "execution_count": null,
      "outputs": []
    },
    {
      "cell_type": "code",
      "source": [
        "# Using append\n",
        "list1 = [1, 2, 3]\n",
        "list1.append([4, 5])\n",
        "print(list1)  # Output: [1, 2, 3, [4, 5]]\n",
        "\n"
      ],
      "metadata": {
        "id": "lYXPdCSPWorE"
      },
      "execution_count": null,
      "outputs": []
    },
    {
      "cell_type": "code",
      "source": [
        "# Using extend\n",
        "list2 = [1, 2, 3]\n",
        "list2.extend([4, 5])\n",
        "print(list2)  # Output: [1, 2, 3, 4, 5]"
      ],
      "metadata": {
        "id": "cX2uMv9dWrZp"
      },
      "execution_count": null,
      "outputs": []
    },
    {
      "cell_type": "markdown",
      "source": [
        "# **sep 3 2024**"
      ],
      "metadata": {
        "id": "lkh14EVbW8Vg"
      }
    },
    {
      "cell_type": "code",
      "source": [
        "\"\"\"append', 'clear','copy','count','extend','index','insert','pop','remove','reverse','sort'\"\"\""
      ],
      "metadata": {
        "id": "Fm5T7U7mXC0c"
      },
      "execution_count": null,
      "outputs": []
    },
    {
      "cell_type": "code",
      "source": [
        "#insert\n",
        "list4 = [1, 2, 3]\n",
        "list4.insert(3,4)\n",
        "print(list4)"
      ],
      "metadata": {
        "colab": {
          "base_uri": "https://localhost:8080/"
        },
        "id": "yojUA0RXaep7",
        "outputId": "cd6c1211-9025-49a2-c4cc-4b6bd0cc6e79"
      },
      "execution_count": null,
      "outputs": [
        {
          "output_type": "stream",
          "name": "stdout",
          "text": [
            "[1, 2, 3, 4]\n"
          ]
        }
      ]
    },
    {
      "cell_type": "code",
      "source": [
        "#remove\n",
        "list4.remove(4)\n",
        "print(list4)"
      ],
      "metadata": {
        "colab": {
          "base_uri": "https://localhost:8080/"
        },
        "id": "SyHGqjTgcjUN",
        "outputId": "8f398f9d-a6bd-45c0-8f53-92958079d0d0"
      },
      "execution_count": null,
      "outputs": [
        {
          "output_type": "stream",
          "name": "stdout",
          "text": [
            "[1, 2, 3]\n"
          ]
        }
      ]
    },
    {
      "cell_type": "code",
      "source": [
        "#Tuple\n",
        "#IMMUTABLE"
      ],
      "metadata": {
        "id": "jp6-Lmn_cyqA"
      },
      "execution_count": null,
      "outputs": []
    },
    {
      "cell_type": "code",
      "source": [
        "a = 1,2,3,4\n",
        "print(a)\n",
        "print(type(a))"
      ],
      "metadata": {
        "colab": {
          "base_uri": "https://localhost:8080/"
        },
        "id": "hudcI53zc5k0",
        "outputId": "f7a2e50d-da0b-46e7-a643-17a543534215"
      },
      "execution_count": null,
      "outputs": [
        {
          "output_type": "stream",
          "name": "stdout",
          "text": [
            "(1, 2, 3, 4)\n",
            "<class 'tuple'>\n"
          ]
        }
      ]
    },
    {
      "cell_type": "code",
      "source": [
        "b = (1)\n",
        "print(b)\n",
        "print(type(b))"
      ],
      "metadata": {
        "colab": {
          "base_uri": "https://localhost:8080/"
        },
        "id": "yo4y0QDXdZRQ",
        "outputId": "ddb538ee-a9bb-4ca3-9d4b-4dbb46dfaf09"
      },
      "execution_count": null,
      "outputs": [
        {
          "output_type": "stream",
          "name": "stdout",
          "text": [
            "1\n",
            "<class 'int'>\n"
          ]
        }
      ]
    },
    {
      "cell_type": "code",
      "source": [
        "b = (1,)\n",
        "print(b)\n",
        "print(type(b))"
      ],
      "metadata": {
        "colab": {
          "base_uri": "https://localhost:8080/"
        },
        "id": "e78tNjmtdwM2",
        "outputId": "98bf3934-2f33-44af-868b-97abd0fca988"
      },
      "execution_count": null,
      "outputs": [
        {
          "output_type": "stream",
          "name": "stdout",
          "text": [
            "(1,)\n",
            "<class 'tuple'>\n"
          ]
        }
      ]
    },
    {
      "cell_type": "code",
      "source": [
        "dir(tuple)"
      ],
      "metadata": {
        "colab": {
          "base_uri": "https://localhost:8080/"
        },
        "id": "uFd__5qMeTf9",
        "outputId": "68c122db-383a-4b1e-c2ee-a9756093eac9"
      },
      "execution_count": null,
      "outputs": [
        {
          "output_type": "execute_result",
          "data": {
            "text/plain": [
              "['__add__',\n",
              " '__class__',\n",
              " '__class_getitem__',\n",
              " '__contains__',\n",
              " '__delattr__',\n",
              " '__dir__',\n",
              " '__doc__',\n",
              " '__eq__',\n",
              " '__format__',\n",
              " '__ge__',\n",
              " '__getattribute__',\n",
              " '__getitem__',\n",
              " '__getnewargs__',\n",
              " '__gt__',\n",
              " '__hash__',\n",
              " '__init__',\n",
              " '__init_subclass__',\n",
              " '__iter__',\n",
              " '__le__',\n",
              " '__len__',\n",
              " '__lt__',\n",
              " '__mul__',\n",
              " '__ne__',\n",
              " '__new__',\n",
              " '__reduce__',\n",
              " '__reduce_ex__',\n",
              " '__repr__',\n",
              " '__rmul__',\n",
              " '__setattr__',\n",
              " '__sizeof__',\n",
              " '__str__',\n",
              " '__subclasshook__',\n",
              " 'count',\n",
              " 'index']"
            ]
          },
          "metadata": {},
          "execution_count": 16
        }
      ]
    },
    {
      "cell_type": "code",
      "source": [
        "#count\n",
        "b = (1,2,3,4,5,6,6)\n",
        "coun = b.count(6)\n",
        "print(coun)\n"
      ],
      "metadata": {
        "colab": {
          "base_uri": "https://localhost:8080/"
        },
        "id": "kwZvy4bxeyat",
        "outputId": "c7ec2a6e-f7c4-4776-93a1-8566918a5099"
      },
      "execution_count": null,
      "outputs": [
        {
          "output_type": "stream",
          "name": "stdout",
          "text": [
            "2\n"
          ]
        }
      ]
    },
    {
      "cell_type": "code",
      "source": [
        "#index\n",
        "b = (1,2,3,4,5,6,6)\n",
        "coun = b.index(6)\n",
        "print(coun)\n"
      ],
      "metadata": {
        "colab": {
          "base_uri": "https://localhost:8080/"
        },
        "id": "bgmDvvrNfTuE",
        "outputId": "3c0d5ba7-7e13-483b-faef-09d5313a6407"
      },
      "execution_count": null,
      "outputs": [
        {
          "output_type": "stream",
          "name": "stdout",
          "text": [
            "5\n"
          ]
        }
      ]
    },
    {
      "cell_type": "code",
      "source": [
        "#set\n",
        "#remove duplicates value"
      ],
      "metadata": {
        "id": "wNPSPBcEff5A"
      },
      "execution_count": null,
      "outputs": []
    },
    {
      "cell_type": "code",
      "source": [
        "se = {1,2.3,\"hello\",6,True,False,-100}\n",
        "print(se)\n",
        "print(type(se))"
      ],
      "metadata": {
        "colab": {
          "base_uri": "https://localhost:8080/"
        },
        "id": "0_jqc65JfimS",
        "outputId": "db418f9c-a114-4731-bed1-ab6234e1ee10"
      },
      "execution_count": null,
      "outputs": [
        {
          "output_type": "stream",
          "name": "stdout",
          "text": [
            "{False, 1, 2.3, 6, 'hello', -100}\n",
            "<class 'set'>\n"
          ]
        }
      ]
    },
    {
      "cell_type": "code",
      "source": [
        "se #unordered and unindexed datatype"
      ],
      "metadata": {
        "colab": {
          "base_uri": "https://localhost:8080/"
        },
        "id": "lPlQKtUcgmCQ",
        "outputId": "17bbfc5b-3ec3-4150-bda1-398bf7534f02"
      },
      "execution_count": null,
      "outputs": [
        {
          "output_type": "execute_result",
          "data": {
            "text/plain": [
              "{-100, 1, 2.3, 6, False, 'hello'}"
            ]
          },
          "metadata": {},
          "execution_count": 22
        }
      ]
    },
    {
      "cell_type": "code",
      "source": [
        "se[2]"
      ],
      "metadata": {
        "colab": {
          "base_uri": "https://localhost:8080/",
          "height": 141
        },
        "id": "vbHb6gdpg0gB",
        "outputId": "78d065b5-87fc-4cc7-cfb5-4d6d21652018"
      },
      "execution_count": null,
      "outputs": [
        {
          "output_type": "error",
          "ename": "TypeError",
          "evalue": "'set' object is not subscriptable",
          "traceback": [
            "\u001b[0;31m---------------------------------------------------------------------------\u001b[0m",
            "\u001b[0;31mTypeError\u001b[0m                                 Traceback (most recent call last)",
            "\u001b[0;32m<ipython-input-24-3c90c56e4b9a>\u001b[0m in \u001b[0;36m<cell line: 1>\u001b[0;34m()\u001b[0m\n\u001b[0;32m----> 1\u001b[0;31m \u001b[0mse\u001b[0m\u001b[0;34m[\u001b[0m\u001b[0;36m2\u001b[0m\u001b[0;34m]\u001b[0m\u001b[0;34m\u001b[0m\u001b[0;34m\u001b[0m\u001b[0m\n\u001b[0m",
            "\u001b[0;31mTypeError\u001b[0m: 'set' object is not subscriptable"
          ]
        }
      ]
    },
    {
      "cell_type": "code",
      "source": [
        "dir(set)"
      ],
      "metadata": {
        "colab": {
          "base_uri": "https://localhost:8080/"
        },
        "id": "nyKRB4wvhW3G",
        "outputId": "de546cb4-96d4-4295-8ba9-ee45255486c9"
      },
      "execution_count": null,
      "outputs": [
        {
          "output_type": "execute_result",
          "data": {
            "text/plain": [
              "['__and__',\n",
              " '__class__',\n",
              " '__class_getitem__',\n",
              " '__contains__',\n",
              " '__delattr__',\n",
              " '__dir__',\n",
              " '__doc__',\n",
              " '__eq__',\n",
              " '__format__',\n",
              " '__ge__',\n",
              " '__getattribute__',\n",
              " '__gt__',\n",
              " '__hash__',\n",
              " '__iand__',\n",
              " '__init__',\n",
              " '__init_subclass__',\n",
              " '__ior__',\n",
              " '__isub__',\n",
              " '__iter__',\n",
              " '__ixor__',\n",
              " '__le__',\n",
              " '__len__',\n",
              " '__lt__',\n",
              " '__ne__',\n",
              " '__new__',\n",
              " '__or__',\n",
              " '__rand__',\n",
              " '__reduce__',\n",
              " '__reduce_ex__',\n",
              " '__repr__',\n",
              " '__ror__',\n",
              " '__rsub__',\n",
              " '__rxor__',\n",
              " '__setattr__',\n",
              " '__sizeof__',\n",
              " '__str__',\n",
              " '__sub__',\n",
              " '__subclasshook__',\n",
              " '__xor__',\n",
              " 'add',\n",
              " 'clear',\n",
              " 'copy',\n",
              " 'difference',\n",
              " 'difference_update',\n",
              " 'discard',\n",
              " 'intersection',\n",
              " 'intersection_update',\n",
              " 'isdisjoint',\n",
              " 'issubset',\n",
              " 'issuperset',\n",
              " 'pop',\n",
              " 'remove',\n",
              " 'symmetric_difference',\n",
              " 'symmetric_difference_update',\n",
              " 'union',\n",
              " 'update']"
            ]
          },
          "metadata": {},
          "execution_count": 25
        }
      ]
    },
    {
      "cell_type": "code",
      "source": [
        "# diff between discord and remove..."
      ],
      "metadata": {
        "id": "7ejDvUxOhdtJ"
      },
      "execution_count": null,
      "outputs": []
    },
    {
      "cell_type": "code",
      "source": [
        "\"\"\"remove():\n",
        "\n",
        "Behavior: Removes the specified element from the set.\n",
        "Raises an Error: If the element is not found in the set, it raises a KeyError.\n",
        "Usage: Use remove() when you are certain the element is present in the set, or\n",
        "if you want to explicitly handle the case when it is not present.\"\"\""
      ],
      "metadata": {
        "id": "xplN4tsP8Y_E"
      },
      "execution_count": null,
      "outputs": []
    },
    {
      "cell_type": "code",
      "source": [
        "my_set = {1, 2, 3}\n",
        "my_set.remove(2)  # Removes 2 from the set\n",
        "my_set.remove(4)  # Raises KeyError since 4 is not in the set\n"
      ],
      "metadata": {
        "colab": {
          "base_uri": "https://localhost:8080/",
          "height": 176
        },
        "id": "wqhfRFZ18hak",
        "outputId": "0d5b46be-6c3b-42f4-aff9-fcfd8fbeabc2"
      },
      "execution_count": null,
      "outputs": [
        {
          "output_type": "error",
          "ename": "KeyError",
          "evalue": "4",
          "traceback": [
            "\u001b[0;31m---------------------------------------------------------------------------\u001b[0m",
            "\u001b[0;31mKeyError\u001b[0m                                  Traceback (most recent call last)",
            "\u001b[0;32m<ipython-input-1-a455bb9cb93f>\u001b[0m in \u001b[0;36m<cell line: 3>\u001b[0;34m()\u001b[0m\n\u001b[1;32m      1\u001b[0m \u001b[0mmy_set\u001b[0m \u001b[0;34m=\u001b[0m \u001b[0;34m{\u001b[0m\u001b[0;36m1\u001b[0m\u001b[0;34m,\u001b[0m \u001b[0;36m2\u001b[0m\u001b[0;34m,\u001b[0m \u001b[0;36m3\u001b[0m\u001b[0;34m}\u001b[0m\u001b[0;34m\u001b[0m\u001b[0;34m\u001b[0m\u001b[0m\n\u001b[1;32m      2\u001b[0m \u001b[0mmy_set\u001b[0m\u001b[0;34m.\u001b[0m\u001b[0mremove\u001b[0m\u001b[0;34m(\u001b[0m\u001b[0;36m2\u001b[0m\u001b[0;34m)\u001b[0m  \u001b[0;31m# Removes 2 from the set\u001b[0m\u001b[0;34m\u001b[0m\u001b[0;34m\u001b[0m\u001b[0m\n\u001b[0;32m----> 3\u001b[0;31m \u001b[0mmy_set\u001b[0m\u001b[0;34m.\u001b[0m\u001b[0mremove\u001b[0m\u001b[0;34m(\u001b[0m\u001b[0;36m4\u001b[0m\u001b[0;34m)\u001b[0m  \u001b[0;31m# Raises KeyError since 4 is not in the set\u001b[0m\u001b[0;34m\u001b[0m\u001b[0;34m\u001b[0m\u001b[0m\n\u001b[0m",
            "\u001b[0;31mKeyError\u001b[0m: 4"
          ]
        }
      ]
    },
    {
      "cell_type": "code",
      "source": [
        "\"\"\"discard():\n",
        "\n",
        "Behavior: Removes the specified element from the set.\n",
        "No Error Raised: If the element is not found in the set, it does not raise any error;\n",
        "the set remains unchanged.\n",
        "Usage: Use discard() when you want to remove an element without worrying about\n",
        "whether it exists in the set or not.\"\"\""
      ],
      "metadata": {
        "id": "jDAvcGNg8mOR"
      },
      "execution_count": null,
      "outputs": []
    },
    {
      "cell_type": "code",
      "source": [
        "my_set = {1, 2, 3}\n",
        "my_set.discard(2)  # Removes 2 from the set\n",
        "my_set.discard(4)  # No error, set remains unchanged\n",
        "print(my_set)"
      ],
      "metadata": {
        "colab": {
          "base_uri": "https://localhost:8080/"
        },
        "id": "Zd2W0zqA8sHQ",
        "outputId": "213d6c79-722b-4a27-f4dd-d57dc4820542"
      },
      "execution_count": null,
      "outputs": [
        {
          "output_type": "stream",
          "name": "stdout",
          "text": [
            "{1, 3}\n"
          ]
        }
      ]
    },
    {
      "cell_type": "code",
      "source": [
        "\"\"\"In summary:\n",
        "\n",
        "Use remove() when you need to ensure the element is removed and want to handle\n",
        "the case where it's not found.\n",
        "Use discard() when you want to remove the element without worrying about its presence in the set.\"\"\""
      ],
      "metadata": {
        "id": "2Y6tM_zL84xg"
      },
      "execution_count": null,
      "outputs": []
    },
    {
      "cell_type": "code",
      "source": [
        "#dictionary"
      ],
      "metadata": {
        "id": "evncAZ-piQY9"
      },
      "execution_count": null,
      "outputs": []
    },
    {
      "cell_type": "code",
      "source": [
        "dir(dict)"
      ],
      "metadata": {
        "colab": {
          "base_uri": "https://localhost:8080/"
        },
        "id": "v6MFB2fGmUAB",
        "outputId": "ddb5882f-b1e8-44de-978b-f6da803a168a"
      },
      "execution_count": null,
      "outputs": [
        {
          "output_type": "execute_result",
          "data": {
            "text/plain": [
              "['__class__',\n",
              " '__class_getitem__',\n",
              " '__contains__',\n",
              " '__delattr__',\n",
              " '__delitem__',\n",
              " '__dir__',\n",
              " '__doc__',\n",
              " '__eq__',\n",
              " '__format__',\n",
              " '__ge__',\n",
              " '__getattribute__',\n",
              " '__getitem__',\n",
              " '__gt__',\n",
              " '__hash__',\n",
              " '__init__',\n",
              " '__init_subclass__',\n",
              " '__ior__',\n",
              " '__iter__',\n",
              " '__le__',\n",
              " '__len__',\n",
              " '__lt__',\n",
              " '__ne__',\n",
              " '__new__',\n",
              " '__or__',\n",
              " '__reduce__',\n",
              " '__reduce_ex__',\n",
              " '__repr__',\n",
              " '__reversed__',\n",
              " '__ror__',\n",
              " '__setattr__',\n",
              " '__setitem__',\n",
              " '__sizeof__',\n",
              " '__str__',\n",
              " '__subclasshook__',\n",
              " 'clear',\n",
              " 'copy',\n",
              " 'fromkeys',\n",
              " 'get',\n",
              " 'items',\n",
              " 'keys',\n",
              " 'pop',\n",
              " 'popitem',\n",
              " 'setdefault',\n",
              " 'update',\n",
              " 'values']"
            ]
          },
          "metadata": {},
          "execution_count": 40
        }
      ]
    },
    {
      "cell_type": "code",
      "source": [
        "b ={}\n",
        "print(type(b))"
      ],
      "metadata": {
        "colab": {
          "base_uri": "https://localhost:8080/"
        },
        "id": "9hEVm90ijYny",
        "outputId": "d1fbafc6-3247-45c8-c320-9eeaf0640299"
      },
      "execution_count": null,
      "outputs": [
        {
          "output_type": "stream",
          "name": "stdout",
          "text": [
            "<class 'dict'>\n"
          ]
        }
      ]
    },
    {
      "cell_type": "code",
      "source": [
        "sample1 = {\"1\":\"hello\",\"2\":\"hi\",\"3\":\"good\",\"4\":\"five\"}\n",
        "print(sample1)\n",
        "print(type(sample1))"
      ],
      "metadata": {
        "colab": {
          "base_uri": "https://localhost:8080/"
        },
        "id": "Wg_Q34nniTBI",
        "outputId": "65ce8634-b2b5-4ec5-a84a-8d7d93f2cc49"
      },
      "execution_count": null,
      "outputs": [
        {
          "output_type": "stream",
          "name": "stdout",
          "text": [
            "{'1': 'hello', '2': 'hi', '3': 'good', '4': 'five'}\n",
            "<class 'dict'>\n"
          ]
        }
      ]
    },
    {
      "cell_type": "code",
      "source": [
        "sample1.keys()"
      ],
      "metadata": {
        "colab": {
          "base_uri": "https://localhost:8080/"
        },
        "id": "F8TULzBNi78N",
        "outputId": "f5ddf284-ccd2-4260-bdc0-a41adc71306d"
      },
      "execution_count": null,
      "outputs": [
        {
          "output_type": "execute_result",
          "data": {
            "text/plain": [
              "dict_keys(['1', '2', '3', '4'])"
            ]
          },
          "metadata": {},
          "execution_count": 27
        }
      ]
    },
    {
      "cell_type": "code",
      "source": [
        "sample1.values()"
      ],
      "metadata": {
        "colab": {
          "base_uri": "https://localhost:8080/"
        },
        "id": "3qW8PxMxjKKM",
        "outputId": "fa9a0cae-ea67-4fef-c89e-658fecd2adf0"
      },
      "execution_count": null,
      "outputs": [
        {
          "output_type": "execute_result",
          "data": {
            "text/plain": [
              "dict_values(['hello', 'hi', 'good', 'five'])"
            ]
          },
          "metadata": {},
          "execution_count": 30
        }
      ]
    },
    {
      "cell_type": "code",
      "source": [
        "sample1.items()"
      ],
      "metadata": {
        "colab": {
          "base_uri": "https://localhost:8080/"
        },
        "id": "X6mEaa-Ujib4",
        "outputId": "1ceb5713-35ff-4970-8952-efab519de226"
      },
      "execution_count": null,
      "outputs": [
        {
          "output_type": "execute_result",
          "data": {
            "text/plain": [
              "dict_items([('1', 'hello'), ('2', 'hi'), ('3', 'good'), ('4', 'five')])"
            ]
          },
          "metadata": {},
          "execution_count": 31
        }
      ]
    },
    {
      "cell_type": "code",
      "source": [
        "sample1"
      ],
      "metadata": {
        "colab": {
          "base_uri": "https://localhost:8080/"
        },
        "id": "veFpo6HgkkTC",
        "outputId": "a427f565-2c0b-4035-a8c4-1b105f93c70b"
      },
      "execution_count": null,
      "outputs": [
        {
          "output_type": "execute_result",
          "data": {
            "text/plain": [
              "{'1': 'hello', '2': 'hi', '3': 'good', '4': 'five'}"
            ]
          },
          "metadata": {},
          "execution_count": 32
        }
      ]
    },
    {
      "cell_type": "code",
      "source": [
        "sam = sample1.values()\n",
        "for i in sam:\n",
        "  print(i)"
      ],
      "metadata": {
        "colab": {
          "base_uri": "https://localhost:8080/"
        },
        "id": "dnKrF6RCksQx",
        "outputId": "d78eb667-3a0b-4492-d5db-de68774414a2"
      },
      "execution_count": null,
      "outputs": [
        {
          "output_type": "stream",
          "name": "stdout",
          "text": [
            "hello\n",
            "hi\n",
            "good\n",
            "five\n"
          ]
        }
      ]
    },
    {
      "cell_type": "code",
      "source": [
        "users = {\"user1\" : {\"name\":\"praba\",\"mobile\":67899},\n",
        "\"user2\" : {\"name\":\"dharshak\",\"mobile\":357584},\n",
        "\"user3\" : {\"name\":\"vignesh\",\"mobile\":4878592}}"
      ],
      "metadata": {
        "id": "ywbMHwHwk18b"
      },
      "execution_count": null,
      "outputs": []
    },
    {
      "cell_type": "code",
      "source": [
        "users\n"
      ],
      "metadata": {
        "colab": {
          "base_uri": "https://localhost:8080/"
        },
        "id": "tKq28tVjllJs",
        "outputId": "02268391-c711-4afa-db97-5cfa8cacae36"
      },
      "execution_count": null,
      "outputs": [
        {
          "output_type": "execute_result",
          "data": {
            "text/plain": [
              "{'user1': {'name': 'praba', 'mobile': 67899},\n",
              " 'user2': {'name': 'dharshak', 'mobile': 357584},\n",
              " 'user3': {'name': 'vignesh', 'mobile': 4878592}}"
            ]
          },
          "metadata": {},
          "execution_count": 48
        }
      ]
    },
    {
      "cell_type": "code",
      "source": [
        "users['user3']"
      ],
      "metadata": {
        "colab": {
          "base_uri": "https://localhost:8080/"
        },
        "id": "9MUL2TXzmFzH",
        "outputId": "5b092c10-39df-42df-f46e-9b27864c19dd"
      },
      "execution_count": null,
      "outputs": [
        {
          "output_type": "execute_result",
          "data": {
            "text/plain": [
              "{'name': 'vignesh', 'mobile': 4878592}"
            ]
          },
          "metadata": {},
          "execution_count": 55
        }
      ]
    },
    {
      "cell_type": "code",
      "source": [
        "for i in users:\n",
        "  print(i)"
      ],
      "metadata": {
        "colab": {
          "base_uri": "https://localhost:8080/"
        },
        "id": "CxeBlddjnXa0",
        "outputId": "77518f74-b6f4-4bc7-b249-18669032ee4a"
      },
      "execution_count": null,
      "outputs": [
        {
          "output_type": "stream",
          "name": "stdout",
          "text": [
            "user1\n",
            "user2\n",
            "user3\n"
          ]
        }
      ]
    },
    {
      "cell_type": "code",
      "source": [
        "for i in users:\n",
        "  print(i['names'])"
      ],
      "metadata": {
        "colab": {
          "base_uri": "https://localhost:8080/",
          "height": 158
        },
        "id": "oLG7gNg6niJG",
        "outputId": "2c67b65f-e098-48b8-a667-89e4162e909d"
      },
      "execution_count": null,
      "outputs": [
        {
          "output_type": "error",
          "ename": "TypeError",
          "evalue": "string indices must be integers",
          "traceback": [
            "\u001b[0;31m---------------------------------------------------------------------------\u001b[0m",
            "\u001b[0;31mTypeError\u001b[0m                                 Traceback (most recent call last)",
            "\u001b[0;32m<ipython-input-58-e6bad24d7820>\u001b[0m in \u001b[0;36m<cell line: 1>\u001b[0;34m()\u001b[0m\n\u001b[1;32m      1\u001b[0m \u001b[0;32mfor\u001b[0m \u001b[0mi\u001b[0m \u001b[0;32min\u001b[0m \u001b[0musers\u001b[0m\u001b[0;34m:\u001b[0m\u001b[0;34m\u001b[0m\u001b[0;34m\u001b[0m\u001b[0m\n\u001b[0;32m----> 2\u001b[0;31m   \u001b[0mprint\u001b[0m\u001b[0;34m(\u001b[0m\u001b[0mi\u001b[0m\u001b[0;34m[\u001b[0m\u001b[0;34m'names'\u001b[0m\u001b[0;34m]\u001b[0m\u001b[0;34m)\u001b[0m\u001b[0;34m\u001b[0m\u001b[0;34m\u001b[0m\u001b[0m\n\u001b[0m",
            "\u001b[0;31mTypeError\u001b[0m: string indices must be integers"
          ]
        }
      ]
    },
    {
      "cell_type": "code",
      "source": [
        "for i in users.values():\n",
        "  print(i['name'])"
      ],
      "metadata": {
        "colab": {
          "base_uri": "https://localhost:8080/"
        },
        "id": "0Vj37Yfnn44Y",
        "outputId": "41d1241e-9793-4919-ad93-25662fbe2822"
      },
      "execution_count": null,
      "outputs": [
        {
          "output_type": "stream",
          "name": "stdout",
          "text": [
            "praba\n",
            "dharshak\n",
            "vignesh\n"
          ]
        }
      ]
    },
    {
      "cell_type": "code",
      "source": [
        "for i in users.keys():\n",
        "  print(i)"
      ],
      "metadata": {
        "colab": {
          "base_uri": "https://localhost:8080/"
        },
        "id": "YNqdXRmxoNHh",
        "outputId": "711ccc3a-8606-4538-f54f-253ef72f416d"
      },
      "execution_count": null,
      "outputs": [
        {
          "output_type": "stream",
          "name": "stdout",
          "text": [
            "user1\n",
            "user2\n",
            "user3\n"
          ]
        }
      ]
    },
    {
      "cell_type": "code",
      "source": [
        "#clear\n",
        "sample1.clear()\n",
        "print(sample1)"
      ],
      "metadata": {
        "colab": {
          "base_uri": "https://localhost:8080/"
        },
        "id": "K5U3Xaczo1zG",
        "outputId": "532d82b3-c502-458a-f87a-6bd4f57bbf52"
      },
      "execution_count": null,
      "outputs": [
        {
          "output_type": "stream",
          "name": "stdout",
          "text": [
            "{}\n"
          ]
        }
      ]
    },
    {
      "cell_type": "code",
      "source": [
        "#copy\n",
        "sample4 = users.copy()\n",
        "print(sample4)"
      ],
      "metadata": {
        "colab": {
          "base_uri": "https://localhost:8080/"
        },
        "id": "S6fNPapio-Tg",
        "outputId": "4b6efd62-49eb-421b-e31a-e9acc2a48659"
      },
      "execution_count": null,
      "outputs": [
        {
          "output_type": "stream",
          "name": "stdout",
          "text": [
            "{'user1': {'name': 'praba', 'mobile': 67899}, 'user2': {'name': 'dharshak', 'mobile': 357584}, 'user3': {'name': 'vignesh', 'mobile': 4878592}}\n"
          ]
        }
      ]
    },
    {
      "cell_type": "code",
      "source": [
        "#get\n",
        "print(sample4.get('user1'))\n",
        "print(sample4.get('user4'))"
      ],
      "metadata": {
        "colab": {
          "base_uri": "https://localhost:8080/"
        },
        "id": "F82RTOS0q_d5",
        "outputId": "003e3f19-914b-4df0-b221-a6ca66110430"
      },
      "execution_count": null,
      "outputs": [
        {
          "output_type": "stream",
          "name": "stdout",
          "text": [
            "{'name': 'praba', 'mobile': 67899}\n",
            "None\n"
          ]
        }
      ]
    },
    {
      "cell_type": "code",
      "source": [
        "#pop\n",
        "sample4.popitem()"
      ],
      "metadata": {
        "colab": {
          "base_uri": "https://localhost:8080/"
        },
        "id": "ruMqn0BIrQUl",
        "outputId": "9ebcce9e-a502-4c29-e278-0b44bc926204"
      },
      "execution_count": null,
      "outputs": [
        {
          "output_type": "execute_result",
          "data": {
            "text/plain": [
              "('user3', {'name': 'vignesh', 'mobile': 4878592})"
            ]
          },
          "metadata": {},
          "execution_count": 74
        }
      ]
    },
    {
      "cell_type": "code",
      "source": [
        "print(sample4)"
      ],
      "metadata": {
        "colab": {
          "base_uri": "https://localhost:8080/"
        },
        "id": "0j2aw1_jrhUl",
        "outputId": "94eef9f2-8b14-494b-ce33-1ee7a0fb81b5"
      },
      "execution_count": null,
      "outputs": [
        {
          "output_type": "stream",
          "name": "stdout",
          "text": [
            "{'user1': {'name': 'praba', 'mobile': 67899}, 'user2': {'name': 'dharshak', 'mobile': 357584}}\n"
          ]
        }
      ]
    },
    {
      "cell_type": "code",
      "source": [
        "#fromkeys\n",
        "sample4.fromkeys('')"
      ],
      "metadata": {
        "colab": {
          "base_uri": "https://localhost:8080/"
        },
        "id": "xOi2kM-7pNUI",
        "outputId": "d7430922-df52-4d6c-b055-342b1220f0f3"
      },
      "execution_count": null,
      "outputs": [
        {
          "output_type": "execute_result",
          "data": {
            "text/plain": [
              "{'p': None, 'r': None, 'a': None, 'b': None}"
            ]
          },
          "metadata": {},
          "execution_count": 69
        }
      ]
    },
    {
      "cell_type": "code",
      "source": [
        "x='a','b','c','d'\n",
        "y='apple','banana','orange','grape'\n",
        "\n",
        "var= dict.fromkeys(x,y)\n",
        "var"
      ],
      "metadata": {
        "colab": {
          "base_uri": "https://localhost:8080/"
        },
        "id": "KU8ILZA2pm0z",
        "outputId": "e45e0395-6f0d-48e7-cb72-996526368bfd"
      },
      "execution_count": null,
      "outputs": [
        {
          "output_type": "execute_result",
          "data": {
            "text/plain": [
              "{'a': ('apple', 'banana', 'orange', 'grape'),\n",
              " 'b': ('apple', 'banana', 'orange', 'grape'),\n",
              " 'c': ('apple', 'banana', 'orange', 'grape'),\n",
              " 'd': ('apple', 'banana', 'orange', 'grape')}"
            ]
          },
          "metadata": {},
          "execution_count": 72
        }
      ]
    },
    {
      "cell_type": "code",
      "source": [
        "#setdefault #have to work on ourself"
      ],
      "metadata": {
        "id": "DD7VJTRfrse0"
      },
      "execution_count": null,
      "outputs": []
    },
    {
      "cell_type": "code",
      "source": [
        "\"\"\"The setdefault() method in Python is used with dictionaries.\n",
        "It returns the value of a specified key if it is in the dictionary.\n",
        "If the key is not in the dictionary, it inserts the key with a specified default value\n",
        "and then returns that value.\"\"\""
      ],
      "metadata": {
        "id": "UPYS3ZyT9Ep3"
      },
      "execution_count": null,
      "outputs": []
    },
    {
      "cell_type": "code",
      "source": [
        "fruits = {\n",
        "    \"apple\": \"red\",\n",
        "    \"banana\": \"yellow\"\n",
        "}"
      ],
      "metadata": {
        "id": "KbRQXhs5-a52"
      },
      "execution_count": null,
      "outputs": []
    },
    {
      "cell_type": "code",
      "source": [
        "# Case 1: Key exists in the dictionary\n",
        "result = fruits.setdefault(\"apple\", \"green\")\n",
        "print(result)  # Output: \"red\"\n",
        "print(fruits)  # Output: {'apple': 'red', 'banana': 'yellow'}"
      ],
      "metadata": {
        "colab": {
          "base_uri": "https://localhost:8080/"
        },
        "id": "kef_KxAt-h_H",
        "outputId": "1e25f098-abfe-4c35-91f6-150a9927ad5c"
      },
      "execution_count": null,
      "outputs": [
        {
          "output_type": "stream",
          "name": "stdout",
          "text": [
            "red\n",
            "{'apple': 'red', 'banana': 'yellow'}\n"
          ]
        }
      ]
    },
    {
      "cell_type": "code",
      "source": [
        "# Case 2: Key does not exist in the dictionary\n",
        "result = fruits.setdefault(\"orange\", \"orange\")\n",
        "print(result)  # Output: \"orange\"\n",
        "print(fruits)  # Output: {'apple': 'red', 'banana': 'yellow', 'orange': 'orange'}"
      ],
      "metadata": {
        "colab": {
          "base_uri": "https://localhost:8080/"
        },
        "id": "oruZV-0A-jXl",
        "outputId": "a779d765-f7cf-4c73-f915-e173922e359f"
      },
      "execution_count": null,
      "outputs": [
        {
          "output_type": "stream",
          "name": "stdout",
          "text": [
            "orange\n",
            "{'apple': 'red', 'banana': 'yellow', 'orange': 'orange'}\n"
          ]
        }
      ]
    },
    {
      "cell_type": "code",
      "source": [
        "\"\"\"Explanation:\n",
        "Case 1: The key \"apple\" is already in the dictionary,\n",
        "so setdefault() simply returns the existing value \"red\" and doesn't change the dictionary.\n",
        "Case 2: The key \"orange\" is not in the dictionary,\n",
        "so setdefault() adds \"orange\": \"orange\" to the dictionary and returns \"orange\".\n",
        "In short, setdefault() is useful when you want to ensure a key exists in a dictionary and\n",
        "provide a default value if it doesn't, all in one step.\"\"\""
      ],
      "metadata": {
        "id": "5QTNosCI-sGg"
      },
      "execution_count": null,
      "outputs": []
    },
    {
      "cell_type": "code",
      "source": [
        "#update\n",
        "sample4.update({'user3': {'name': 'vignesh', 'mobile': 4878592}})\n"
      ],
      "metadata": {
        "id": "HM7WSYoxsXZ7"
      },
      "execution_count": null,
      "outputs": []
    },
    {
      "cell_type": "code",
      "source": [
        "print(sample4)"
      ],
      "metadata": {
        "colab": {
          "base_uri": "https://localhost:8080/"
        },
        "id": "RXFXdp6ashV2",
        "outputId": "0073a452-eb07-41ac-f321-bf7f4689ceec"
      },
      "execution_count": null,
      "outputs": [
        {
          "output_type": "stream",
          "name": "stdout",
          "text": [
            "{'user1': {'name': 'praba', 'mobile': 67899}, 'user2': {'name': 'dharshak', 'mobile': 357584}, 'user3': {'name': 'vignesh', 'mobile': 4878592}}\n"
          ]
        }
      ]
    },
    {
      "cell_type": "markdown",
      "source": [
        "# **SEP 4 2024**"
      ],
      "metadata": {
        "id": "F-y10ObF-58D"
      }
    },
    {
      "cell_type": "code",
      "source": [
        "#Functions in python"
      ],
      "metadata": {
        "id": "vgbhzSY7_BeH"
      },
      "execution_count": null,
      "outputs": []
    },
    {
      "cell_type": "code",
      "source": [
        "#no return without arguments\n",
        "#no return with arguments\n",
        "#return without arguments\n",
        "#return with arguments\n",
        "#lambda functions       total 9 types of functions"
      ],
      "metadata": {
        "id": "nJDD4x4O_7p0"
      },
      "execution_count": null,
      "outputs": []
    },
    {
      "cell_type": "code",
      "source": [
        "#no return without arguments\n",
        "#def means define\n",
        "def goat(): #without argument\n",
        "    var = int(input())\n",
        "    var1 = int(input())\n",
        "    var3 = var + var1\n",
        "    print(var3)   #no return"
      ],
      "metadata": {
        "id": "WzxLwXU7BKfg"
      },
      "execution_count": null,
      "outputs": []
    },
    {
      "cell_type": "code",
      "source": [
        "goat() #we can call as many as we want"
      ],
      "metadata": {
        "colab": {
          "base_uri": "https://localhost:8080/"
        },
        "id": "1G1YCL2oCveg",
        "outputId": "fd42ea6b-7cc6-4ccf-9622-f2ff442b7415"
      },
      "execution_count": null,
      "outputs": [
        {
          "output_type": "stream",
          "name": "stdout",
          "text": [
            "2\n",
            "4\n",
            "6\n"
          ]
        }
      ]
    },
    {
      "cell_type": "code",
      "source": [
        "#no return with arguments\n",
        "def leo(num1,num2): # ---> values inside the brackets are called arguments\n",
        "    total = num1 + num2\n",
        "    print(total)\n"
      ],
      "metadata": {
        "id": "WpinCNKRDcWf"
      },
      "execution_count": null,
      "outputs": []
    },
    {
      "cell_type": "code",
      "source": [
        "leo()"
      ],
      "metadata": {
        "colab": {
          "base_uri": "https://localhost:8080/",
          "height": 141
        },
        "id": "OWTXRd-dDw6E",
        "outputId": "bbac7034-fe4b-4caf-874d-550ea3c410a1"
      },
      "execution_count": null,
      "outputs": [
        {
          "output_type": "error",
          "ename": "TypeError",
          "evalue": "leo() missing 2 required positional arguments: 'num1' and 'num2'",
          "traceback": [
            "\u001b[0;31m---------------------------------------------------------------------------\u001b[0m",
            "\u001b[0;31mTypeError\u001b[0m                                 Traceback (most recent call last)",
            "\u001b[0;32m<ipython-input-15-f4b16f2a9a85>\u001b[0m in \u001b[0;36m<cell line: 1>\u001b[0;34m()\u001b[0m\n\u001b[0;32m----> 1\u001b[0;31m \u001b[0mleo\u001b[0m\u001b[0;34m(\u001b[0m\u001b[0;34m)\u001b[0m\u001b[0;34m\u001b[0m\u001b[0;34m\u001b[0m\u001b[0m\n\u001b[0m",
            "\u001b[0;31mTypeError\u001b[0m: leo() missing 2 required positional arguments: 'num1' and 'num2'"
          ]
        }
      ]
    },
    {
      "cell_type": "code",
      "source": [
        "leo(20,20)"
      ],
      "metadata": {
        "colab": {
          "base_uri": "https://localhost:8080/"
        },
        "id": "_i-x1MzuD7Sm",
        "outputId": "181590f3-db5d-43e9-f175-ae7f174970f7"
      },
      "execution_count": null,
      "outputs": [
        {
          "output_type": "stream",
          "name": "stdout",
          "text": [
            "40\n"
          ]
        }
      ]
    },
    {
      "cell_type": "code",
      "source": [
        "leo(20)"
      ],
      "metadata": {
        "colab": {
          "base_uri": "https://localhost:8080/",
          "height": 141
        },
        "id": "0-IFt5LNEeRi",
        "outputId": "f582b58d-6d9e-44cc-d72c-079889e009dc"
      },
      "execution_count": null,
      "outputs": [
        {
          "output_type": "error",
          "ename": "TypeError",
          "evalue": "leo() missing 1 required positional argument: 'num2'",
          "traceback": [
            "\u001b[0;31m---------------------------------------------------------------------------\u001b[0m",
            "\u001b[0;31mTypeError\u001b[0m                                 Traceback (most recent call last)",
            "\u001b[0;32m<ipython-input-17-9528e64649f1>\u001b[0m in \u001b[0;36m<cell line: 1>\u001b[0;34m()\u001b[0m\n\u001b[0;32m----> 1\u001b[0;31m \u001b[0mleo\u001b[0m\u001b[0;34m(\u001b[0m\u001b[0;36m20\u001b[0m\u001b[0;34m)\u001b[0m\u001b[0;34m\u001b[0m\u001b[0;34m\u001b[0m\u001b[0m\n\u001b[0m",
            "\u001b[0;31mTypeError\u001b[0m: leo() missing 1 required positional argument: 'num2'"
          ]
        }
      ]
    },
    {
      "cell_type": "code",
      "source": [
        "#return without arguments"
      ],
      "metadata": {
        "id": "UxMywUiaE0rG"
      },
      "execution_count": null,
      "outputs": []
    },
    {
      "cell_type": "code",
      "source": [
        "def haroldp():\n",
        "    a = int(input())\n",
        "    b = int(input())\n",
        "    c = a * b\n",
        "    print(c)\n",
        "\n",
        "def haroldr():\n",
        "    a = int(input())\n",
        "    b = int(input())\n",
        "    c = a * b\n",
        "    return c"
      ],
      "metadata": {
        "id": "56C8actCFGxA"
      },
      "execution_count": null,
      "outputs": []
    },
    {
      "cell_type": "code",
      "source": [
        "#print call\n",
        "if haroldp() == 2025:\n",
        "    print(\"print call\") #if condtion not satisfied"
      ],
      "metadata": {
        "colab": {
          "base_uri": "https://localhost:8080/"
        },
        "id": "yV_AO7m5ILje",
        "outputId": "b05e07c8-3cd6-49cd-ff24-bddcfd635ab5"
      },
      "execution_count": null,
      "outputs": [
        {
          "output_type": "stream",
          "name": "stdout",
          "text": [
            "45\n",
            "45\n",
            "2025\n"
          ]
        }
      ]
    },
    {
      "cell_type": "code",
      "source": [
        "#return call\n",
        "if haroldr() == 2025:\n",
        "    print(\"return call\") #if condition satisfied\n"
      ],
      "metadata": {
        "colab": {
          "base_uri": "https://localhost:8080/"
        },
        "id": "JMc3CJYrIPiP",
        "outputId": "bcd71c41-39b8-4438-f7ec-2dd306987def"
      },
      "execution_count": null,
      "outputs": [
        {
          "output_type": "stream",
          "name": "stdout",
          "text": [
            "45\n",
            "45\n",
            "return call\n"
          ]
        }
      ]
    },
    {
      "cell_type": "code",
      "source": [
        "#return with arguments\n",
        "def nums(a,b):\n",
        "    c = int(a)+int(b)\n",
        "    return c"
      ],
      "metadata": {
        "id": "bLK5veh_KmAE"
      },
      "execution_count": null,
      "outputs": []
    },
    {
      "cell_type": "code",
      "source": [
        "nums(25,35)"
      ],
      "metadata": {
        "colab": {
          "base_uri": "https://localhost:8080/"
        },
        "id": "IvpAINL8Lbbk",
        "outputId": "451048ea-7070-4e15-9107-0bc01aaa2e31"
      },
      "execution_count": null,
      "outputs": [
        {
          "output_type": "execute_result",
          "data": {
            "text/plain": [
              "60"
            ]
          },
          "metadata": {},
          "execution_count": 2
        }
      ]
    },
    {
      "cell_type": "code",
      "source": [
        "nums(\"hi\",\"ho\")"
      ],
      "metadata": {
        "colab": {
          "base_uri": "https://localhost:8080/",
          "height": 245
        },
        "id": "J2Z_l3gPLfsj",
        "outputId": "3c38ed4c-7a7d-4f87-a42c-c84ab8d1669c"
      },
      "execution_count": null,
      "outputs": [
        {
          "output_type": "error",
          "ename": "ValueError",
          "evalue": "invalid literal for int() with base 10: 'hi'",
          "traceback": [
            "\u001b[0;31m---------------------------------------------------------------------------\u001b[0m",
            "\u001b[0;31mValueError\u001b[0m                                Traceback (most recent call last)",
            "\u001b[0;32m<ipython-input-56-ecc166d6caa3>\u001b[0m in \u001b[0;36m<cell line: 1>\u001b[0;34m()\u001b[0m\n\u001b[0;32m----> 1\u001b[0;31m \u001b[0mnums\u001b[0m\u001b[0;34m(\u001b[0m\u001b[0;34m\"hi\"\u001b[0m\u001b[0;34m,\u001b[0m\u001b[0;34m\"ho\"\u001b[0m\u001b[0;34m)\u001b[0m\u001b[0;34m\u001b[0m\u001b[0;34m\u001b[0m\u001b[0m\n\u001b[0m",
            "\u001b[0;32m<ipython-input-53-307865cd7055>\u001b[0m in \u001b[0;36mnums\u001b[0;34m(a, b)\u001b[0m\n\u001b[1;32m      1\u001b[0m \u001b[0;31m#return with arguments\u001b[0m\u001b[0;34m\u001b[0m\u001b[0;34m\u001b[0m\u001b[0m\n\u001b[1;32m      2\u001b[0m \u001b[0;32mdef\u001b[0m \u001b[0mnums\u001b[0m\u001b[0;34m(\u001b[0m\u001b[0ma\u001b[0m\u001b[0;34m,\u001b[0m\u001b[0mb\u001b[0m\u001b[0;34m)\u001b[0m\u001b[0;34m:\u001b[0m\u001b[0;34m\u001b[0m\u001b[0;34m\u001b[0m\u001b[0m\n\u001b[0;32m----> 3\u001b[0;31m     \u001b[0mc\u001b[0m \u001b[0;34m=\u001b[0m \u001b[0mint\u001b[0m\u001b[0;34m(\u001b[0m\u001b[0ma\u001b[0m\u001b[0;34m)\u001b[0m\u001b[0;34m+\u001b[0m\u001b[0mint\u001b[0m\u001b[0;34m(\u001b[0m\u001b[0mb\u001b[0m\u001b[0;34m)\u001b[0m\u001b[0;34m\u001b[0m\u001b[0;34m\u001b[0m\u001b[0m\n\u001b[0m\u001b[1;32m      4\u001b[0m     \u001b[0;32mreturn\u001b[0m \u001b[0mc\u001b[0m\u001b[0;34m\u001b[0m\u001b[0;34m\u001b[0m\u001b[0m\n",
            "\u001b[0;31mValueError\u001b[0m: invalid literal for int() with base 10: 'hi'"
          ]
        }
      ]
    },
    {
      "cell_type": "code",
      "source": [
        "nums(\"35\",\"35\")"
      ],
      "metadata": {
        "colab": {
          "base_uri": "https://localhost:8080/"
        },
        "id": "10ouv16GLngW",
        "outputId": "66920cd6-99ec-4463-9ce2-3aa9978e8405"
      },
      "execution_count": null,
      "outputs": [
        {
          "output_type": "execute_result",
          "data": {
            "text/plain": [
              "70"
            ]
          },
          "metadata": {},
          "execution_count": 3
        }
      ]
    },
    {
      "cell_type": "code",
      "source": [
        "nums(\"1\",\"2\")"
      ],
      "metadata": {
        "colab": {
          "base_uri": "https://localhost:8080/"
        },
        "id": "nPmsIk7oL3S1",
        "outputId": "d11e9b2f-89c8-45d4-d53b-64b51c315012"
      },
      "execution_count": null,
      "outputs": [
        {
          "output_type": "execute_result",
          "data": {
            "text/plain": [
              "3"
            ]
          },
          "metadata": {},
          "execution_count": 54
        }
      ]
    },
    {
      "cell_type": "code",
      "source": [
        "nums(45,45)"
      ],
      "metadata": {
        "colab": {
          "base_uri": "https://localhost:8080/"
        },
        "id": "vVGZufpuKvfb",
        "outputId": "3ce45fc5-cd84-48c7-dc35-65032dcef70b"
      },
      "execution_count": null,
      "outputs": [
        {
          "output_type": "execute_result",
          "data": {
            "text/plain": [
              "90"
            ]
          },
          "metadata": {},
          "execution_count": 47
        }
      ]
    },
    {
      "cell_type": "code",
      "source": [
        "#lambda functions"
      ],
      "metadata": {
        "id": "wzm0Kh3CNJaP"
      },
      "execution_count": null,
      "outputs": []
    },
    {
      "cell_type": "code",
      "source": [
        "def var(x):\n",
        "    y = x+10\n",
        "    return y\n"
      ],
      "metadata": {
        "id": "gTEFl8SdN8up"
      },
      "execution_count": null,
      "outputs": []
    },
    {
      "cell_type": "code",
      "source": [
        "var(10)"
      ],
      "metadata": {
        "colab": {
          "base_uri": "https://localhost:8080/"
        },
        "id": "CJZ9GJxJOTX1",
        "outputId": "2d7be5e1-5f3c-4d43-bc8a-9514c34cd84d"
      },
      "execution_count": null,
      "outputs": [
        {
          "output_type": "execute_result",
          "data": {
            "text/plain": [
              "20"
            ]
          },
          "metadata": {},
          "execution_count": 6
        }
      ]
    },
    {
      "cell_type": "code",
      "source": [
        "var1 = lambda x: x + 5\n",
        "# var - function name , lambda - keyword for lambda function creation ,\n",
        "# x - represent the argument\n",
        "# x+ 5 - remaiming logical code\n",
        "# it returns the answer value"
      ],
      "metadata": {
        "id": "-EEQ31-VNPO7"
      },
      "execution_count": null,
      "outputs": []
    },
    {
      "cell_type": "code",
      "source": [
        "var1(10)"
      ],
      "metadata": {
        "colab": {
          "base_uri": "https://localhost:8080/"
        },
        "id": "h-fnKkL9NchF",
        "outputId": "9bfb5f91-09af-4264-bcca-119b16e4cba0"
      },
      "execution_count": null,
      "outputs": [
        {
          "output_type": "execute_result",
          "data": {
            "text/plain": [
              "15"
            ]
          },
          "metadata": {},
          "execution_count": 9
        }
      ]
    },
    {
      "cell_type": "code",
      "source": [
        "#task"
      ],
      "metadata": {
        "id": "NWikEg07Oz6C"
      },
      "execution_count": null,
      "outputs": []
    },
    {
      "cell_type": "code",
      "source": [
        "def results(m1,m2,m3):\n",
        "    total = m1+m2+m3\n",
        "    average = total / 3\n",
        "    return total , average\n",
        "\n",
        "def resultsf(m1,m2,m3):\n",
        "    total = m1+m2+m3\n",
        "    average = total / 3\n",
        "    return total , average\n",
        "\n",
        "def namestr(n1,n2,n3):\n",
        "    all_names = list(n1,n2,n3)\n",
        "    strof =input(\"do you want to add other names - y/n:\")\n",
        "    if strof == y:\n",
        "        pass\n",
        "    elif strof == n:\n",
        "        print(\"thank you\")\n",
        "        return all_names\n"
      ],
      "metadata": {
        "id": "ZJxyTjLpR1M4"
      },
      "execution_count": null,
      "outputs": []
    },
    {
      "cell_type": "code",
      "source": [
        "input_res = input(\"enter you choice - float/int/string: \")\n",
        "if input_res == \"float\":\n",
        "    mark1 = float(input(\"markf_1:\"))\n",
        "    mark2 = float(input(\"markf_2:\"))\n",
        "    mark3 = float(input(\"markf_3:\"))\n",
        "\n",
        "    print(resultsf(mark1,mark2,mark3))\n",
        "\n",
        "elif input_res == \"int\":\n",
        "    markx = int(input(\"mark_1:\"))\n",
        "    marky = int(input(\"mark_2:\"))\n",
        "    markz = int(input(\"mark_3:\"))\n",
        "\n",
        "    print(results(markx,marky,markz))\n",
        "\n",
        "elif input_res == \"string\":\n",
        "    name1=input(\"enter the first name:\")\n",
        "    name2=input(\"enter the second name:\")\n",
        "    name3=input(\"enter the third name:\")\n",
        "\n",
        "    print(namestr(name1,name2,name3))\n",
        "\n",
        "else:\n",
        "    print(\"enter the given choice\")"
      ],
      "metadata": {
        "colab": {
          "base_uri": "https://localhost:8080/"
        },
        "id": "1DdfBjqQQebU",
        "outputId": "784910b3-bc45-4964-f198-8d0df058172a"
      },
      "execution_count": null,
      "outputs": [
        {
          "output_type": "stream",
          "name": "stdout",
          "text": [
            "enter you choice - float/int: int\n",
            "mark_1:75\n",
            "mark_2:89\n",
            "mark_3:59\n",
            "(223, 74.33333333333333)\n"
          ]
        }
      ]
    },
    {
      "cell_type": "code",
      "source": [
        "# three names as input\n",
        "# move to function\n",
        "#three names should be print in list format\n",
        "# ask question that \"do you want to add any other name\" y/n\n",
        "#if y get input as name in infinitely and update the list\n",
        "#if input is empty means break\n",
        "#then print all the remaining names entered before as list\n",
        "#n means thank you\n",
        "#print the existing three names"
      ],
      "metadata": {
        "id": "DVBj_EA2WHN2"
      },
      "execution_count": null,
      "outputs": []
    },
    {
      "cell_type": "code",
      "source": [
        "name1 = input(\"\")\n",
        "name2 = input(\"\")\n",
        "name3 = input(\"\")\n",
        "other_name = input(\"do you add y/n:\")\n",
        "empty_list = []\n",
        "name_given = [name1,name2,name3]\n",
        "print(name_given)\n",
        "if other_name == \"y\":\n",
        "    while other_name != \" \":\n",
        "        other_name =input(\"do you add y/n:\")\n",
        "if other_name == \"n\":\n",
        "    print(name_given)"
      ],
      "metadata": {
        "id": "02a6_EUMaj4Z"
      },
      "execution_count": null,
      "outputs": []
    },
    {
      "cell_type": "code",
      "source": [
        "varr = 1,2,3\n",
        "print(varr)\n",
        "print(type(varr))"
      ],
      "metadata": {
        "colab": {
          "base_uri": "https://localhost:8080/"
        },
        "id": "5FKW8ZAQaFKS",
        "outputId": "14eed5a7-43ef-48b6-8718-f4c1f649e0c1"
      },
      "execution_count": null,
      "outputs": [
        {
          "output_type": "stream",
          "name": "stdout",
          "text": [
            "(1, 2, 3)\n",
            "<class 'tuple'>\n"
          ]
        }
      ]
    },
    {
      "cell_type": "code",
      "source": [
        "list(varr)"
      ],
      "metadata": {
        "colab": {
          "base_uri": "https://localhost:8080/"
        },
        "id": "pJ51mmN5aPb8",
        "outputId": "2fa02ea0-6e82-41d8-e305-8d36f9f17858"
      },
      "execution_count": null,
      "outputs": [
        {
          "output_type": "execute_result",
          "data": {
            "text/plain": [
              "[1, 2, 3]"
            ]
          },
          "metadata": {},
          "execution_count": 24
        }
      ]
    },
    {
      "cell_type": "code",
      "source": [
        "#oops concept in python"
      ],
      "metadata": {
        "id": "JOac77Dy3NWg"
      },
      "execution_count": null,
      "outputs": []
    },
    {
      "cell_type": "code",
      "source": [
        "#blueprint of code\n",
        "#constructor - > object"
      ],
      "metadata": {
        "id": "GN9SoGKw3QPE"
      },
      "execution_count": null,
      "outputs": []
    },
    {
      "cell_type": "code",
      "source": [
        "class hawk: #class is a constructor / creating a object\n",
        "    def __init__(self): #it is an invisible function in a class\n",
        "        pass\n",
        "    name = \"dharsh\" # attributes name and id\n",
        "    id = 1\n"
      ],
      "metadata": {
        "id": "r15sigM23hzR"
      },
      "execution_count": null,
      "outputs": []
    },
    {
      "cell_type": "code",
      "source": [
        "mark1 = hawk() #represents the objects / a variable assinged to a class, it was a object"
      ],
      "metadata": {
        "id": "7nhXBWhj36eF"
      },
      "execution_count": null,
      "outputs": []
    },
    {
      "cell_type": "code",
      "source": [
        "mark1 #system memory value"
      ],
      "metadata": {
        "colab": {
          "base_uri": "https://localhost:8080/"
        },
        "id": "mQzG-1lH4IA5",
        "outputId": "dc1d4e8a-f298-499e-9fab-1317305e68e4"
      },
      "execution_count": null,
      "outputs": [
        {
          "output_type": "execute_result",
          "data": {
            "text/plain": [
              "<__main__.hawk at 0x7a397ecf51e0>"
            ]
          },
          "metadata": {},
          "execution_count": 6
        }
      ]
    },
    {
      "cell_type": "code",
      "source": [
        "mark1.name"
      ],
      "metadata": {
        "colab": {
          "base_uri": "https://localhost:8080/",
          "height": 36
        },
        "id": "rBmnnBFH4p0f",
        "outputId": "f1f108ce-d6c8-4053-f1ee-84a8ef47cab7"
      },
      "execution_count": null,
      "outputs": [
        {
          "output_type": "execute_result",
          "data": {
            "text/plain": [
              "'dharsh'"
            ],
            "application/vnd.google.colaboratory.intrinsic+json": {
              "type": "string"
            }
          },
          "metadata": {},
          "execution_count": 7
        }
      ]
    },
    {
      "cell_type": "code",
      "source": [
        "mark1.id"
      ],
      "metadata": {
        "colab": {
          "base_uri": "https://localhost:8080/"
        },
        "id": "Eb8HSma85rjJ",
        "outputId": "718337e9-28a1-41de-cf1c-ddfb2e80224c"
      },
      "execution_count": null,
      "outputs": [
        {
          "output_type": "execute_result",
          "data": {
            "text/plain": [
              "1"
            ]
          },
          "metadata": {},
          "execution_count": 8
        }
      ]
    },
    {
      "cell_type": "code",
      "source": [
        "dir(hawk)"
      ],
      "metadata": {
        "colab": {
          "base_uri": "https://localhost:8080/"
        },
        "id": "q5qDrIJL5wh3",
        "outputId": "0b083c34-3bc2-4ad5-9793-2753a0e0dfeb"
      },
      "execution_count": null,
      "outputs": [
        {
          "output_type": "execute_result",
          "data": {
            "text/plain": [
              "['__class__',\n",
              " '__delattr__',\n",
              " '__dict__',\n",
              " '__dir__',\n",
              " '__doc__',\n",
              " '__eq__',\n",
              " '__format__',\n",
              " '__ge__',\n",
              " '__getattribute__',\n",
              " '__gt__',\n",
              " '__hash__',\n",
              " '__init__',\n",
              " '__init_subclass__',\n",
              " '__le__',\n",
              " '__lt__',\n",
              " '__module__',\n",
              " '__ne__',\n",
              " '__new__',\n",
              " '__reduce__',\n",
              " '__reduce_ex__',\n",
              " '__repr__',\n",
              " '__setattr__',\n",
              " '__sizeof__',\n",
              " '__str__',\n",
              " '__subclasshook__',\n",
              " '__weakref__',\n",
              " 'id',\n",
              " 'name']"
            ]
          },
          "metadata": {},
          "execution_count": 10
        }
      ]
    },
    {
      "cell_type": "code",
      "source": [
        "class Employees:\n",
        "\n",
        "    def __init__(self,name,id,age,location):\n",
        "        self.ID = id\n",
        "        self.NAME = name\n",
        "        self.AGE = age\n",
        "        self.LOCATION = location\n",
        "\n",
        "    def show(self):\n",
        "        print(self.ID,self.NAME,self.AGE,self.LOCATION,self)\n",
        "        self.name = new_name\n",
        "        print(self.ID,self.NAME,self.AGE,self.LOCATION,self)\n",
        "    def change(self):\n",
        "        # self.name=input()\n",
        "        # self.show()\n",
        "        pass"
      ],
      "metadata": {
        "id": "ZHu54fQl6J4O"
      },
      "execution_count": null,
      "outputs": []
    },
    {
      "cell_type": "code",
      "source": [
        "emp1 = Employees(\"pk\",1,34,\"pondy\")\n",
        "emp1.show(\"prabakaran\")\n"
      ],
      "metadata": {
        "id": "yBNrsF7V68Ru",
        "colab": {
          "base_uri": "https://localhost:8080/"
        },
        "outputId": "7f8840c4-5d00-4ca9-bbf4-aae807a9f7d0"
      },
      "execution_count": null,
      "outputs": [
        {
          "output_type": "stream",
          "name": "stdout",
          "text": [
            "1 pk 34 pondy <__main__.Employees object at 0x7a17682b6050>\n",
            "1 pk 34 pondy <__main__.Employees object at 0x7a17682b6050>\n"
          ]
        }
      ]
    },
    {
      "cell_type": "code",
      "source": [
        "emp1"
      ],
      "metadata": {
        "colab": {
          "base_uri": "https://localhost:8080/"
        },
        "id": "52QwN5KC7Z5O",
        "outputId": "23863e23-ff22-4135-a3f5-cbda6c17cdef"
      },
      "execution_count": null,
      "outputs": [
        {
          "output_type": "execute_result",
          "data": {
            "text/plain": [
              "<__main__.Employees at 0x7a1779215960>"
            ]
          },
          "metadata": {},
          "execution_count": 19
        }
      ]
    },
    {
      "cell_type": "code",
      "source": [
        "emp1.ID,emp1.NAME"
      ],
      "metadata": {
        "colab": {
          "base_uri": "https://localhost:8080/"
        },
        "id": "o85icfHo7cW9",
        "outputId": "0a96e90b-5c29-4562-8a81-3251d9efbc8c"
      },
      "execution_count": null,
      "outputs": [
        {
          "output_type": "execute_result",
          "data": {
            "text/plain": [
              "(1, 'pk')"
            ]
          },
          "metadata": {},
          "execution_count": 20
        }
      ]
    },
    {
      "cell_type": "code",
      "source": [
        "emp1.show()"
      ],
      "metadata": {
        "colab": {
          "base_uri": "https://localhost:8080/"
        },
        "id": "k9qmLbsd94wh",
        "outputId": "f5befa87-3263-4709-8e68-3e0d2625e2da"
      },
      "execution_count": null,
      "outputs": [
        {
          "output_type": "stream",
          "name": "stdout",
          "text": [
            "1 pk 34 pondy <__main__.Employees object at 0x7a1779215960>\n"
          ]
        }
      ]
    },
    {
      "cell_type": "code",
      "source": [
        "emp2 = Employees(\"dk\",2,27,\"pondy\")"
      ],
      "metadata": {
        "id": "lyoiwbauAhSr"
      },
      "execution_count": null,
      "outputs": []
    },
    {
      "cell_type": "code",
      "source": [
        "emp2.NAME,emp1.NAME"
      ],
      "metadata": {
        "colab": {
          "base_uri": "https://localhost:8080/"
        },
        "id": "Ybtozj54Ar62",
        "outputId": "86c2938f-6ce1-4996-e2d1-0f39b0420023"
      },
      "execution_count": null,
      "outputs": [
        {
          "output_type": "execute_result",
          "data": {
            "text/plain": [
              "('dk', 'pk')"
            ]
          },
          "metadata": {},
          "execution_count": 11
        }
      ]
    },
    {
      "cell_type": "code",
      "source": [
        "emp2"
      ],
      "metadata": {
        "colab": {
          "base_uri": "https://localhost:8080/"
        },
        "id": "1dZrOieVA2NZ",
        "outputId": "69582886-ef3a-4c19-eb63-5103689069b0"
      },
      "execution_count": null,
      "outputs": [
        {
          "output_type": "execute_result",
          "data": {
            "text/plain": [
              "<__main__.Employees at 0x7a1779215660>"
            ]
          },
          "metadata": {},
          "execution_count": 12
        }
      ]
    },
    {
      "cell_type": "code",
      "source": [
        "emp1.show()"
      ],
      "metadata": {
        "colab": {
          "base_uri": "https://localhost:8080/"
        },
        "id": "OO-5EhQSBUBH",
        "outputId": "3fbfee9c-86f0-4be0-8510-d5f266aeaf6a"
      },
      "execution_count": null,
      "outputs": [
        {
          "output_type": "stream",
          "name": "stdout",
          "text": [
            "1 pk 34 pondy <__main__.Employees object at 0x7a1779216a10>\n"
          ]
        }
      ]
    },
    {
      "cell_type": "code",
      "source": [
        "emp2.show()"
      ],
      "metadata": {
        "colab": {
          "base_uri": "https://localhost:8080/"
        },
        "id": "tY4rbvJFBb00",
        "outputId": "8619ca77-d4eb-4434-fa21-29cfa3737f96"
      },
      "execution_count": null,
      "outputs": [
        {
          "output_type": "stream",
          "name": "stdout",
          "text": [
            "2 dk 27 pondy <__main__.Employees object at 0x7a1779215660>\n"
          ]
        }
      ]
    },
    {
      "cell_type": "markdown",
      "source": [
        "# **sep 5 2024**"
      ],
      "metadata": {
        "id": "-Qx1ZG61-46s"
      }
    },
    {
      "cell_type": "code",
      "source": [
        "#inheritance\n",
        "class Employees:\n",
        "\n",
        "    def __init__(self,name,id,age,location):\n",
        "        self.ID = id\n",
        "        self.NAME = name\n",
        "        self.AGE = age\n",
        "        self.LOCATION = location\n",
        "\n",
        "    def show(self):\n",
        "        print(self.ID,\"Microsoft\",self.NAME,self.AGE,self.LOCATION,self)\n",
        "\n",
        "    def change(self,new_name):\n",
        "       self.name = new_name\n",
        "       print(self.ID,self.NAME,self.AGE,self.LOCATION,self)\n",
        "\n",
        "class zoho(Employees):\n",
        "\n",
        "    def __init__(self,name,id,age):\n",
        "        self.NAME=name\n",
        "        self.ID=id\n",
        "        self.AGE=age\n",
        "        print(self.ID,\"Zoho\",self.NAME,self.AGE,self)"
      ],
      "metadata": {
        "id": "AgJ5oGFL--lS"
      },
      "execution_count": null,
      "outputs": []
    },
    {
      "cell_type": "code",
      "source": [
        "obj1 = zoho(\"prabakran\",1,33)"
      ],
      "metadata": {
        "colab": {
          "base_uri": "https://localhost:8080/"
        },
        "id": "_RPykwCI_tov",
        "outputId": "3b9eea4c-58e5-4a61-9b5d-ec7dd1572b31"
      },
      "execution_count": null,
      "outputs": [
        {
          "output_type": "stream",
          "name": "stdout",
          "text": [
            "1 Zoho prabakran 33 <__main__.zoho object at 0x7a1779217010>\n"
          ]
        }
      ]
    },
    {
      "cell_type": "code",
      "source": [
        "obj1.show()"
      ],
      "metadata": {
        "colab": {
          "base_uri": "https://localhost:8080/",
          "height": 263
        },
        "id": "BZJpJilyAGvN",
        "outputId": "3f51385b-4067-4b1b-e7a3-7fc6e0660894"
      },
      "execution_count": null,
      "outputs": [
        {
          "output_type": "error",
          "ename": "AttributeError",
          "evalue": "'zoho' object has no attribute 'LOCATION'",
          "traceback": [
            "\u001b[0;31m---------------------------------------------------------------------------\u001b[0m",
            "\u001b[0;31mAttributeError\u001b[0m                            Traceback (most recent call last)",
            "\u001b[0;32m<ipython-input-50-e8e3bf44759c>\u001b[0m in \u001b[0;36m<cell line: 1>\u001b[0;34m()\u001b[0m\n\u001b[0;32m----> 1\u001b[0;31m \u001b[0mobj1\u001b[0m\u001b[0;34m.\u001b[0m\u001b[0mshow\u001b[0m\u001b[0;34m(\u001b[0m\u001b[0;34m)\u001b[0m\u001b[0;34m\u001b[0m\u001b[0;34m\u001b[0m\u001b[0m\n\u001b[0m",
            "\u001b[0;32m<ipython-input-47-d5a44a52ad0f>\u001b[0m in \u001b[0;36mshow\u001b[0;34m(self)\u001b[0m\n\u001b[1;32m      9\u001b[0m \u001b[0;34m\u001b[0m\u001b[0m\n\u001b[1;32m     10\u001b[0m     \u001b[0;32mdef\u001b[0m \u001b[0mshow\u001b[0m\u001b[0;34m(\u001b[0m\u001b[0mself\u001b[0m\u001b[0;34m)\u001b[0m\u001b[0;34m:\u001b[0m\u001b[0;34m\u001b[0m\u001b[0;34m\u001b[0m\u001b[0m\n\u001b[0;32m---> 11\u001b[0;31m         \u001b[0mprint\u001b[0m\u001b[0;34m(\u001b[0m\u001b[0mself\u001b[0m\u001b[0;34m.\u001b[0m\u001b[0mID\u001b[0m\u001b[0;34m,\u001b[0m\u001b[0;34m\"Microsoft\"\u001b[0m\u001b[0;34m,\u001b[0m\u001b[0mself\u001b[0m\u001b[0;34m.\u001b[0m\u001b[0mNAME\u001b[0m\u001b[0;34m,\u001b[0m\u001b[0mself\u001b[0m\u001b[0;34m.\u001b[0m\u001b[0mAGE\u001b[0m\u001b[0;34m,\u001b[0m\u001b[0mself\u001b[0m\u001b[0;34m.\u001b[0m\u001b[0mLOCATION\u001b[0m\u001b[0;34m,\u001b[0m\u001b[0mself\u001b[0m\u001b[0;34m)\u001b[0m\u001b[0;34m\u001b[0m\u001b[0;34m\u001b[0m\u001b[0m\n\u001b[0m\u001b[1;32m     12\u001b[0m \u001b[0;34m\u001b[0m\u001b[0m\n\u001b[1;32m     13\u001b[0m     \u001b[0;32mdef\u001b[0m \u001b[0mchange\u001b[0m\u001b[0;34m(\u001b[0m\u001b[0mself\u001b[0m\u001b[0;34m,\u001b[0m\u001b[0mnew_name\u001b[0m\u001b[0;34m)\u001b[0m\u001b[0;34m:\u001b[0m\u001b[0;34m\u001b[0m\u001b[0;34m\u001b[0m\u001b[0m\n",
            "\u001b[0;31mAttributeError\u001b[0m: 'zoho' object has no attribute 'LOCATION'"
          ]
        }
      ]
    },
    {
      "cell_type": "markdown",
      "source": [
        "# **SEP 9 2024**"
      ],
      "metadata": {
        "id": "gKlbUxo2tYB5"
      }
    },
    {
      "cell_type": "code",
      "source": [
        "#two classes\n",
        "#library class --> book availability , book issue / lending , adding the books\n",
        "#customer class --> requesting the book , return the book"
      ],
      "metadata": {
        "id": "8HTXT61vInzI"
      },
      "execution_count": null,
      "outputs": []
    },
    {
      "cell_type": "code",
      "source": [
        "#library management\n",
        "#requirements\n",
        "#welcome to the pondy library :)\n",
        "#choose your option\n",
        "#1.show all the books\n",
        "#2.lend a book\n",
        "#3.requesting a book\n",
        "#4.add the book to the customer\n",
        "#5.return the book to the library\n",
        "#6.exit"
      ],
      "metadata": {
        "id": "PbbYw-baEt9K"
      },
      "execution_count": null,
      "outputs": []
    },
    {
      "cell_type": "code",
      "source": [
        "class library:\n",
        "    def __init__(self):\n",
        "        self.BOOKLIST = [\"book1\",\"book2\",\"book3\",\"book4\",\"book5\"]\n",
        "    def show(self):\n",
        "        print(self.BOOKLIST)\n",
        "    def book_lend(self,rqd_book):\n",
        "\n",
        "        if rqd_book in self.BOOKLIST:\n",
        "            print(\"book lended successfully\")\n",
        "            self.BOOKLIST.remove(rqd_book)\n",
        "            return rqd_book\n",
        "\n",
        "        else:\n",
        "            print(\"book is not available\")\n",
        "\n",
        "    def returned_book(self,r_book):\n",
        "        if r_book in self.BOOKLIST:\n",
        "            print(\"book returned sccessfully\")\n",
        "            self.BOOKLIST.append(r_book)\n",
        "\n",
        "        else:\n",
        "            print(\"book is not returned\")\n",
        "class customer:\n",
        "    def __init__(self):\n",
        "        self.cust_book_list = []\n",
        "    def show(self):\n",
        "        print(self.cust_book_list)\n",
        "    def requesting_book(self):\n",
        "        req_book = input(\"enter the book name:\")\n",
        "        return req_book\n",
        "    def lended_cust_book(self,l_book):\n",
        "        self.cust_book_list.append(l_book)\n"
      ],
      "metadata": {
        "id": "Jooqv0-9Rxr_"
      },
      "execution_count": null,
      "outputs": []
    },
    {
      "cell_type": "code",
      "source": [
        "obj_lib = library()\n",
        "obj_cust = customer()"
      ],
      "metadata": {
        "id": "v9yPvSzxU6Yv"
      },
      "execution_count": null,
      "outputs": []
    },
    {
      "cell_type": "code",
      "source": [
        "print(\"welcome to the Pondy Library :)\")\n",
        "print()\n",
        "print(\"choose your option below\")\n",
        "print(\"1.show all the books:\")\n",
        "print(\"2.lend a book:\")\n",
        "print(\"3.show customer book list\")\n",
        "print(\"4.return a book\")\n",
        "print(\"6.exit\")\n",
        "print()\n",
        "\n",
        "while True:\n",
        "    options = int(input(\"enter the option 1/2/3/4/5:\"))\n",
        "    print()\n",
        "    if options ==1:\n",
        "        obj_lib.show()\n",
        "    elif options ==2:\n",
        "        rqd_book=obj_cust.requesting_book()\n",
        "        lended_book=obj_lib.book_lend(rqd_book)\n",
        "        obj_cust.lended_cust_book(lended_book)\n",
        "    elif options==3:\n",
        "        obj_cust.show()\n",
        "    elif options==4:\n",
        "        rtn_book = obj_lib.returned_book(r_book)\n",
        "        print(\"book returned successfully\")\n",
        "    elif options==5:\n",
        "        print(\"thank you\")\n",
        "        break"
      ],
      "metadata": {
        "colab": {
          "base_uri": "https://localhost:8080/",
          "height": 575
        },
        "id": "v9Oj9WXZSUV2",
        "outputId": "b2bf7999-c41a-4cdd-d34e-d5b211c13847"
      },
      "execution_count": null,
      "outputs": [
        {
          "output_type": "stream",
          "name": "stdout",
          "text": [
            "welcome to the Pondy Library :)\n",
            "\n",
            "choose your option below\n",
            "1.show all the books:\n",
            "2.lend a book:\n",
            "3.show customer book list\n",
            "4.return a book\n",
            "6.exit\n",
            "\n",
            "enter the option 1/2/3/4/5:1\n",
            "\n",
            "['book1', 'book2', 'book3', 'book4', 'book5']\n",
            "enter the option 1/2/3/4/5:2\n",
            "\n",
            "enter the book name:book3\n",
            "book lended successfully\n",
            "enter the option 1/2/3/4/5:3\n",
            "\n",
            "['book3']\n",
            "enter the option 1/2/3/4/5:4\n",
            "\n"
          ]
        },
        {
          "output_type": "error",
          "ename": "NameError",
          "evalue": "name 'r_book' is not defined",
          "traceback": [
            "\u001b[0;31m---------------------------------------------------------------------------\u001b[0m",
            "\u001b[0;31mNameError\u001b[0m                                 Traceback (most recent call last)",
            "\u001b[0;32m<ipython-input-8-b375c5f7655f>\u001b[0m in \u001b[0;36m<cell line: 11>\u001b[0;34m()\u001b[0m\n\u001b[1;32m     21\u001b[0m         \u001b[0mobj_cust\u001b[0m\u001b[0;34m.\u001b[0m\u001b[0mshow\u001b[0m\u001b[0;34m(\u001b[0m\u001b[0;34m)\u001b[0m\u001b[0;34m\u001b[0m\u001b[0;34m\u001b[0m\u001b[0m\n\u001b[1;32m     22\u001b[0m     \u001b[0;32melif\u001b[0m \u001b[0moptions\u001b[0m\u001b[0;34m==\u001b[0m\u001b[0;36m4\u001b[0m\u001b[0;34m:\u001b[0m\u001b[0;34m\u001b[0m\u001b[0;34m\u001b[0m\u001b[0m\n\u001b[0;32m---> 23\u001b[0;31m         \u001b[0mrtn_book\u001b[0m \u001b[0;34m=\u001b[0m \u001b[0mobj_lib\u001b[0m\u001b[0;34m.\u001b[0m\u001b[0mreturned_book\u001b[0m\u001b[0;34m(\u001b[0m\u001b[0mr_book\u001b[0m\u001b[0;34m)\u001b[0m\u001b[0;34m\u001b[0m\u001b[0;34m\u001b[0m\u001b[0m\n\u001b[0m\u001b[1;32m     24\u001b[0m         \u001b[0mprint\u001b[0m\u001b[0;34m(\u001b[0m\u001b[0;34m\"book returned successfully\"\u001b[0m\u001b[0;34m)\u001b[0m\u001b[0;34m\u001b[0m\u001b[0;34m\u001b[0m\u001b[0m\n\u001b[1;32m     25\u001b[0m     \u001b[0;32melif\u001b[0m \u001b[0moptions\u001b[0m\u001b[0;34m==\u001b[0m\u001b[0;36m5\u001b[0m\u001b[0;34m:\u001b[0m\u001b[0;34m\u001b[0m\u001b[0;34m\u001b[0m\u001b[0m\n",
            "\u001b[0;31mNameError\u001b[0m: name 'r_book' is not defined"
          ]
        }
      ]
    },
    {
      "cell_type": "markdown",
      "source": [
        "# 10 sep 2024"
      ],
      "metadata": {
        "id": "o0QXFDb7gKq0"
      }
    },
    {
      "cell_type": "markdown",
      "source": [
        "# linked list\n"
      ],
      "metadata": {
        "id": "_Ho5saPUpR6b"
      }
    },
    {
      "cell_type": "markdown",
      "source": [
        "# 12 sep 2024"
      ],
      "metadata": {
        "id": "mq-GzMl4sKNu"
      }
    },
    {
      "cell_type": "markdown",
      "source": [
        "![Singlelinkedlist.png](data:image/png;base64,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)"
      ],
      "metadata": {
        "id": "9vCrfnZ6yLpX"
      }
    },
    {
      "cell_type": "code",
      "source": [
        "class node():\n",
        "    def __init__(self,data):\n",
        "        self.data_value = data\n",
        "        self.next_value = None\n",
        "class linked_list():\n",
        "    def __init__(self):\n",
        "        self.head_value = None\n",
        "    def show(self):\n",
        "        temp = self.head_value    #self.head_value = n1.head_value = temp\n",
        "        while temp is not None:\n",
        "            print(temp.data_value)    #n1.head_value.data_value = \"pk\"\n",
        "            temp = temp.next_value    #temp = n1.head_value.next_value\n",
        "    def insert_bet(self,old_node,new_data):\n",
        "        new_node = node(new_data)\n",
        "        new_node.next_value = old_node.next_value\n",
        "        old_node.next_value = new_node\n",
        "\n",
        "\n"
      ],
      "metadata": {
        "id": "wEBWumKCsNjk"
      },
      "execution_count": null,
      "outputs": []
    },
    {
      "cell_type": "code",
      "source": [
        "n1 = linked_list()"
      ],
      "metadata": {
        "id": "bCTi2manyVzS"
      },
      "execution_count": null,
      "outputs": []
    },
    {
      "cell_type": "code",
      "source": [
        "print(n1.head_value)"
      ],
      "metadata": {
        "colab": {
          "base_uri": "https://localhost:8080/"
        },
        "id": "_SQQvUKuyh1p",
        "outputId": "bc22ef9c-1792-43e6-c482-8d22240d3c0b"
      },
      "execution_count": null,
      "outputs": [
        {
          "output_type": "stream",
          "name": "stdout",
          "text": [
            "None\n"
          ]
        }
      ]
    },
    {
      "cell_type": "code",
      "source": [
        "n1.head_value = node(\"pk\")\n",
        "n2 = node(\"vig\")\n",
        "n3 = node(\"dhar\")\n",
        "n4 = node(\"lok\")\n",
        "n5 = node(\"toni\")\n",
        "n1.head_value.next_value = n2\n",
        "n2.next_value = n3\n",
        "n3.next_value = n4\n",
        "n4.next_value = n5"
      ],
      "metadata": {
        "id": "GtRBdzxe0JaE"
      },
      "execution_count": null,
      "outputs": []
    },
    {
      "cell_type": "code",
      "source": [
        "n1.head_value"
      ],
      "metadata": {
        "colab": {
          "base_uri": "https://localhost:8080/"
        },
        "id": "6RE7Ifx40hOd",
        "outputId": "808a2ba6-a97c-4921-86d5-31d70c6db3c8"
      },
      "execution_count": null,
      "outputs": [
        {
          "output_type": "execute_result",
          "data": {
            "text/plain": [
              "<__main__.node at 0x78869a20dba0>"
            ]
          },
          "metadata": {},
          "execution_count": 58
        }
      ]
    },
    {
      "cell_type": "code",
      "source": [
        "n1.head_value.data_value"
      ],
      "metadata": {
        "colab": {
          "base_uri": "https://localhost:8080/",
          "height": 36
        },
        "id": "nb5gfys_1_zl",
        "outputId": "45b11712-018e-459a-93b9-58dd1425cef5"
      },
      "execution_count": null,
      "outputs": [
        {
          "output_type": "execute_result",
          "data": {
            "text/plain": [
              "'pk'"
            ],
            "application/vnd.google.colaboratory.intrinsic+json": {
              "type": "string"
            }
          },
          "metadata": {},
          "execution_count": 59
        }
      ]
    },
    {
      "cell_type": "code",
      "source": [
        "print(n1.head_value.next_value)"
      ],
      "metadata": {
        "colab": {
          "base_uri": "https://localhost:8080/"
        },
        "id": "RhoDLNm02JgH",
        "outputId": "c1d7f02b-74b1-4e91-87c3-b62163160256"
      },
      "execution_count": null,
      "outputs": [
        {
          "output_type": "stream",
          "name": "stdout",
          "text": [
            "None\n"
          ]
        }
      ]
    },
    {
      "cell_type": "code",
      "source": [],
      "metadata": {
        "id": "1rfpO9Pb2bXM"
      },
      "execution_count": null,
      "outputs": []
    },
    {
      "cell_type": "code",
      "source": [],
      "metadata": {
        "id": "5ESJjHSk27bd"
      },
      "execution_count": null,
      "outputs": []
    },
    {
      "cell_type": "code",
      "source": [
        "n1.head_value.next_value,n2"
      ],
      "metadata": {
        "colab": {
          "base_uri": "https://localhost:8080/"
        },
        "id": "HcaGf4u031aw",
        "outputId": "89bf38cf-15a9-426f-a451-54ea14233fff"
      },
      "execution_count": null,
      "outputs": [
        {
          "output_type": "execute_result",
          "data": {
            "text/plain": [
              "(<__main__.node at 0x78869a20eec0>, <__main__.node at 0x78869a20eec0>)"
            ]
          },
          "metadata": {},
          "execution_count": 63
        }
      ]
    },
    {
      "cell_type": "code",
      "source": [
        "print(n1.head_value.next_value.data_value)"
      ],
      "metadata": {
        "colab": {
          "base_uri": "https://localhost:8080/"
        },
        "id": "YH10rBR34ubD",
        "outputId": "952eed8d-55bb-4691-824d-591208cbcc4a"
      },
      "execution_count": null,
      "outputs": [
        {
          "output_type": "stream",
          "name": "stdout",
          "text": [
            "vig\n"
          ]
        }
      ]
    },
    {
      "cell_type": "code",
      "source": [
        "n1.head_value.next_value.data_value"
      ],
      "metadata": {
        "colab": {
          "base_uri": "https://localhost:8080/",
          "height": 36
        },
        "id": "op2KpvCX6Mbe",
        "outputId": "4f2e2d72-f578-44c1-d8e7-d2d9e5a75854"
      },
      "execution_count": null,
      "outputs": [
        {
          "output_type": "execute_result",
          "data": {
            "text/plain": [
              "'vig'"
            ],
            "application/vnd.google.colaboratory.intrinsic+json": {
              "type": "string"
            }
          },
          "metadata": {},
          "execution_count": 65
        }
      ]
    },
    {
      "cell_type": "code",
      "source": [
        "n2.data_value,n2.next_value"
      ],
      "metadata": {
        "colab": {
          "base_uri": "https://localhost:8080/"
        },
        "id": "ujAxC1LW6PHQ",
        "outputId": "e0d3b744-c987-4d2a-e23f-aba8d1700237"
      },
      "execution_count": null,
      "outputs": [
        {
          "output_type": "execute_result",
          "data": {
            "text/plain": [
              "('vig', None)"
            ]
          },
          "metadata": {},
          "execution_count": 66
        }
      ]
    },
    {
      "cell_type": "code",
      "source": [],
      "metadata": {
        "id": "EIy59Mn47Hvn"
      },
      "execution_count": null,
      "outputs": []
    },
    {
      "cell_type": "code",
      "source": [
        "n3,n2.next_value"
      ],
      "metadata": {
        "colab": {
          "base_uri": "https://localhost:8080/"
        },
        "id": "s2sUOcKf7Nzx",
        "outputId": "4a4a71e6-90ec-40e1-88de-a31ed89da144"
      },
      "execution_count": null,
      "outputs": [
        {
          "output_type": "execute_result",
          "data": {
            "text/plain": [
              "(<__main__.node at 0x78869a20f730>, <__main__.node at 0x78869a20f730>)"
            ]
          },
          "metadata": {},
          "execution_count": 68
        }
      ]
    },
    {
      "cell_type": "code",
      "source": [
        "n1.head_value.next_value.next_value.data_value"
      ],
      "metadata": {
        "colab": {
          "base_uri": "https://localhost:8080/",
          "height": 36
        },
        "id": "zPs_gGkl7x5G",
        "outputId": "f1ae2ebd-25d7-4c96-bce3-2e430e909efa"
      },
      "execution_count": null,
      "outputs": [
        {
          "output_type": "execute_result",
          "data": {
            "text/plain": [
              "'dhar'"
            ],
            "application/vnd.google.colaboratory.intrinsic+json": {
              "type": "string"
            }
          },
          "metadata": {},
          "execution_count": 69
        }
      ]
    },
    {
      "cell_type": "code",
      "source": [
        "\n"
      ],
      "metadata": {
        "id": "DlxELuTH78Bs"
      },
      "execution_count": null,
      "outputs": []
    },
    {
      "cell_type": "code",
      "source": [
        "n4.next_value = n5"
      ],
      "metadata": {
        "id": "RMxTxKBv7_sR"
      },
      "execution_count": null,
      "outputs": []
    },
    {
      "cell_type": "code",
      "source": [
        "n1.show()"
      ],
      "metadata": {
        "colab": {
          "base_uri": "https://localhost:8080/"
        },
        "id": "HQyUM5D3-Lq0",
        "outputId": "4acd5399-10c0-4460-90ef-439252d78cb8"
      },
      "execution_count": null,
      "outputs": [
        {
          "output_type": "stream",
          "name": "stdout",
          "text": [
            "pk\n",
            "vig\n",
            "dhar\n",
            "lok\n",
            "toni\n"
          ]
        }
      ]
    },
    {
      "cell_type": "markdown",
      "source": [
        "# 16 sep 2024"
      ],
      "metadata": {
        "id": "w3GbTT_sRkoF"
      }
    },
    {
      "cell_type": "code",
      "source": [
        "class node():\n",
        "    def __init__(self,data):\n",
        "        self.data_value = data\n",
        "        self.next_value = None\n",
        "class linked_list():\n",
        "    def __init__(self):\n",
        "        self.head_value = None\n",
        "    def show(self):\n",
        "        temp = self.head_value    #self.head_value = n1.head_value = temp\n",
        "        while temp is not None:\n",
        "            print(temp.data_value)    #n1.head_value.data_value = \"pk\"\n",
        "            temp = temp.next_value    #temp = n1.head_value.next_value\n",
        "    def insert_bet(self,old_node,new_data):\n",
        "        new_node = node(new_data)\n",
        "        new_node.next_value = old_node.next_value\n",
        "        old_node.next_value = new_node\n",
        "    def insert_begi(self,newdata):\n",
        "        new_node = node(newdata)\n",
        "        new_node.next_value = self.head_value\n",
        "        self.head_value = new_node\n",
        "    def insert_last(self,old_node,new_data):\n",
        "        new_node=node(new_data)\n",
        "        old_node.next_value = new_node\n",
        "\n"
      ],
      "metadata": {
        "id": "Agn105cDRoBx"
      },
      "execution_count": null,
      "outputs": []
    },
    {
      "cell_type": "code",
      "source": [
        "n1 = linked_list()"
      ],
      "metadata": {
        "id": "MncvhxE-p2IG"
      },
      "execution_count": null,
      "outputs": []
    },
    {
      "cell_type": "code",
      "source": [
        "n1.head_value = node(\"pk\")\n",
        "n2 = node(\"vig\")\n",
        "n3 = node(\"dhar\")\n",
        "n4 = node(\"lok\")\n",
        "n5 = node(\"toni\")\n",
        "n1.head_value.next_value = n2\n",
        "n2.next_value = n3\n",
        "n3.next_value = n4\n",
        "n4.next_value = n5"
      ],
      "metadata": {
        "id": "tKhFaSqheSKh"
      },
      "execution_count": null,
      "outputs": []
    },
    {
      "cell_type": "code",
      "source": [
        "n1.show()"
      ],
      "metadata": {
        "colab": {
          "base_uri": "https://localhost:8080/"
        },
        "id": "23bLIHwkeWyz",
        "outputId": "a78696d8-2d81-4ce9-fff1-fbf7bc84354c"
      },
      "execution_count": null,
      "outputs": [
        {
          "output_type": "stream",
          "name": "stdout",
          "text": [
            "pk\n",
            "vig\n",
            "dhar\n",
            "lok\n",
            "toni\n"
          ]
        }
      ]
    },
    {
      "cell_type": "code",
      "source": [
        "n1.insert_bet(n3,\"thor\")"
      ],
      "metadata": {
        "id": "s445A-rMko_V"
      },
      "execution_count": null,
      "outputs": []
    },
    {
      "cell_type": "code",
      "source": [
        "n1.show()"
      ],
      "metadata": {
        "colab": {
          "base_uri": "https://localhost:8080/"
        },
        "id": "7iSwT96Rp-k-",
        "outputId": "78bcdf65-f577-46f2-bc98-f077705e40ea"
      },
      "execution_count": null,
      "outputs": [
        {
          "output_type": "stream",
          "name": "stdout",
          "text": [
            "pk\n",
            "vig\n",
            "dhar\n",
            "thor\n",
            "lok\n",
            "toni\n"
          ]
        }
      ]
    },
    {
      "cell_type": "code",
      "source": [
        "n1.insert_begi(\"hawk\")"
      ],
      "metadata": {
        "id": "f0BGNSfnqmkC"
      },
      "execution_count": null,
      "outputs": []
    },
    {
      "cell_type": "code",
      "source": [
        "n1.show()"
      ],
      "metadata": {
        "colab": {
          "base_uri": "https://localhost:8080/"
        },
        "id": "0HvuXRGsr_3V",
        "outputId": "82bf673f-01ed-4df0-dcbb-45439f2c4e72"
      },
      "execution_count": null,
      "outputs": [
        {
          "output_type": "stream",
          "name": "stdout",
          "text": [
            "hawk\n",
            "pk\n",
            "vig\n",
            "dhar\n",
            "thor\n",
            "lok\n",
            "toni\n"
          ]
        }
      ]
    },
    {
      "cell_type": "code",
      "source": [
        "n1.insert_last(n5,\"black\")"
      ],
      "metadata": {
        "id": "vA4ZHR5tsJSx"
      },
      "execution_count": null,
      "outputs": []
    },
    {
      "cell_type": "code",
      "source": [
        "n1.show()"
      ],
      "metadata": {
        "id": "CAKegPnEs-0x",
        "outputId": "ee57dcf2-67ca-4df2-8577-58fc73da78d9",
        "colab": {
          "base_uri": "https://localhost:8080/"
        }
      },
      "execution_count": null,
      "outputs": [
        {
          "output_type": "stream",
          "name": "stdout",
          "text": [
            "hawk\n",
            "pk\n",
            "vig\n",
            "dhar\n",
            "thor\n",
            "lok\n",
            "toni\n",
            "black\n"
          ]
        }
      ]
    },
    {
      "cell_type": "markdown",
      "source": [
        "# 19 sep 2024"
      ],
      "metadata": {
        "id": "pNAHWGGtaf_l"
      }
    },
    {
      "cell_type": "markdown",
      "source": [
        "# TREE Data STRUCTURE"
      ],
      "metadata": {
        "id": "_np3UQ38cIQo"
      }
    },
    {
      "cell_type": "code",
      "source": [
        "class node():\n",
        "    def __init__(self,data):\n",
        "        self.left = None\n",
        "        self.right = None\n",
        "        self.main = data\n",
        "    def show(self):\n",
        "        if self.left:\n",
        "            self.left.show()\n",
        "\n",
        "        print(self.main)\n",
        "\n",
        "        if self.right:\n",
        "            self.right.show()\n",
        "    def insert(self,new_data):\n",
        "        if self.main:\n",
        "            if new_data < self.main:\n",
        "                if self.left is None:\n",
        "                    self.left = node(new_data)\n",
        "                else:\n",
        "                    self.left.insert(new_data)      #recursion function\n",
        "            elif new_data > self.main:\n",
        "                if self.right is None:\n",
        "                    self.right = node(new_data)\n",
        "                else:\n",
        "                    self.right.insert(new_data)\n",
        "        else:\n",
        "            self.main = node(new_data)\n",
        "\n",
        "\n"
      ],
      "metadata": {
        "id": "jrrIYlZHajfe"
      },
      "execution_count": 17,
      "outputs": []
    },
    {
      "cell_type": "code",
      "source": [
        "node_obj = node(50)"
      ],
      "metadata": {
        "id": "8bgh-tI8czik"
      },
      "execution_count": 18,
      "outputs": []
    },
    {
      "cell_type": "code",
      "source": [
        "node_obj.insert(35)\n",
        "node_obj.insert(76)\n",
        "node_obj.insert(45)\n",
        "node_obj.insert(22)\n",
        "node_obj.insert(21)\n",
        "node_obj.insert(47)\n",
        "node_obj.insert(89)\n",
        "node_obj.insert(43)\n",
        "node_obj.insert(23)\n",
        "node_obj.insert(17)\n",
        "node_obj.insert(15)\n",
        "node_obj.insert(14)\n",
        "node_obj.insert(90)"
      ],
      "metadata": {
        "id": "WA4AIYBjoWSy"
      },
      "execution_count": 23,
      "outputs": []
    },
    {
      "cell_type": "code",
      "source": [
        "node_obj.show()"
      ],
      "metadata": {
        "colab": {
          "base_uri": "https://localhost:8080/"
        },
        "id": "3Y5e3oSAojlx",
        "outputId": "6f4da4aa-af3d-41ec-d693-69b7d7521a2c"
      },
      "execution_count": 24,
      "outputs": [
        {
          "output_type": "stream",
          "name": "stdout",
          "text": [
            "14\n",
            "15\n",
            "17\n",
            "21\n",
            "22\n",
            "23\n",
            "35\n",
            "43\n",
            "45\n",
            "47\n",
            "50\n",
            "76\n",
            "89\n",
            "90\n"
          ]
        }
      ]
    }
  ]
}